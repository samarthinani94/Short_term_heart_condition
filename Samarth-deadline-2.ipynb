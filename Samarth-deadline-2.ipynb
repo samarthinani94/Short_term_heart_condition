{
 "cells": [
  {
   "cell_type": "code",
   "execution_count": 177,
   "metadata": {},
   "outputs": [],
   "source": [
    "%matplotlib inline\n",
    "import numpy as np \n",
    "import pandas as pd\n",
    "from sklearn.model_selection import train_test_split,ShuffleSplit\n",
    "from sklearn.metrics import r2_score\n",
    "from sklearn import ensemble\n",
    "import xgboost as xgb\n",
    "import matplotlib.pyplot as plt\n",
    "import seaborn as sns"
   ]
  },
  {
   "cell_type": "markdown",
   "metadata": {},
   "source": [
    "### loading data"
   ]
  },
  {
   "cell_type": "code",
   "execution_count": 228,
   "metadata": {},
   "outputs": [],
   "source": [
    "df_train_raw = pd.read_csv(\"train.csv\")\n",
    "df_test_raw = pd.read_csv(\"data_for_test.csv\")"
   ]
  },
  {
   "cell_type": "markdown",
   "metadata": {},
   "source": [
    "### dropping non predictive column"
   ]
  },
  {
   "cell_type": "code",
   "execution_count": 229,
   "metadata": {},
   "outputs": [],
   "source": [
    "df_train_raw = df_train_raw.drop('patient_id', axis=1)\n",
    "df_test_raw = df_test_raw.drop('patient_id', axis=1)"
   ]
  },
  {
   "cell_type": "markdown",
   "metadata": {},
   "source": [
    "### row to column tranformation for each key, around 150 new features generated in this operation"
   ]
  },
  {
   "cell_type": "code",
   "execution_count": 230,
   "metadata": {},
   "outputs": [],
   "source": [
    "col = ['xx1','xx2','xx3','xx4','xx5']\n",
    "df_train_raw['key_row_count'] = df_train_raw.groupby('key').cumcount().astype(str)\n",
    "train_pivoted = pd.pivot(df_train_raw,'key','key_row_count',col)\n",
    "train_pivoted.columns = ['_'.join(col) for col in train_pivoted.columns]"
   ]
  },
  {
   "cell_type": "code",
   "execution_count": 231,
   "metadata": {},
   "outputs": [],
   "source": [
    "col = ['xx1','xx2','xx3','xx4','xx5']\n",
    "df_test_raw['key_row_count'] = df_test_raw.groupby('key').cumcount().astype(str)\n",
    "test_pivoted = pd.pivot(df_test_raw,'key','key_row_count',col)\n",
    "test_pivoted.columns = ['_'.join(col) for col in test_pivoted.columns]"
   ]
  },
  {
   "cell_type": "code",
   "execution_count": 232,
   "metadata": {},
   "outputs": [
    {
     "data": {
      "text/html": [
       "<div>\n",
       "<style scoped>\n",
       "    .dataframe tbody tr th:only-of-type {\n",
       "        vertical-align: middle;\n",
       "    }\n",
       "\n",
       "    .dataframe tbody tr th {\n",
       "        vertical-align: top;\n",
       "    }\n",
       "\n",
       "    .dataframe thead th {\n",
       "        text-align: right;\n",
       "    }\n",
       "</style>\n",
       "<table border=\"1\" class=\"dataframe\">\n",
       "  <thead>\n",
       "    <tr style=\"text-align: right;\">\n",
       "      <th></th>\n",
       "      <th>xx1_0</th>\n",
       "      <th>xx1_1</th>\n",
       "      <th>xx1_10</th>\n",
       "      <th>xx1_11</th>\n",
       "      <th>xx1_12</th>\n",
       "      <th>xx1_13</th>\n",
       "      <th>xx1_14</th>\n",
       "      <th>xx1_15</th>\n",
       "      <th>xx1_16</th>\n",
       "      <th>xx1_17</th>\n",
       "      <th>...</th>\n",
       "      <th>xx5_27</th>\n",
       "      <th>xx5_28</th>\n",
       "      <th>xx5_29</th>\n",
       "      <th>xx5_3</th>\n",
       "      <th>xx5_4</th>\n",
       "      <th>xx5_5</th>\n",
       "      <th>xx5_6</th>\n",
       "      <th>xx5_7</th>\n",
       "      <th>xx5_8</th>\n",
       "      <th>xx5_9</th>\n",
       "    </tr>\n",
       "    <tr>\n",
       "      <th>key</th>\n",
       "      <th></th>\n",
       "      <th></th>\n",
       "      <th></th>\n",
       "      <th></th>\n",
       "      <th></th>\n",
       "      <th></th>\n",
       "      <th></th>\n",
       "      <th></th>\n",
       "      <th></th>\n",
       "      <th></th>\n",
       "      <th></th>\n",
       "      <th></th>\n",
       "      <th></th>\n",
       "      <th></th>\n",
       "      <th></th>\n",
       "      <th></th>\n",
       "      <th></th>\n",
       "      <th></th>\n",
       "      <th></th>\n",
       "      <th></th>\n",
       "      <th></th>\n",
       "    </tr>\n",
       "  </thead>\n",
       "  <tbody>\n",
       "    <tr>\n",
       "      <td>0-28</td>\n",
       "      <td>82.0</td>\n",
       "      <td>82.0</td>\n",
       "      <td>79.0</td>\n",
       "      <td>77.0</td>\n",
       "      <td>78.0</td>\n",
       "      <td>76.0</td>\n",
       "      <td>78.0</td>\n",
       "      <td>83.0</td>\n",
       "      <td>83.0</td>\n",
       "      <td>82.0</td>\n",
       "      <td>...</td>\n",
       "      <td>84.0</td>\n",
       "      <td>91.0</td>\n",
       "      <td>88.0</td>\n",
       "      <td>85.0</td>\n",
       "      <td>85.0</td>\n",
       "      <td>83.0</td>\n",
       "      <td>83.0</td>\n",
       "      <td>83.0</td>\n",
       "      <td>82.0</td>\n",
       "      <td>84.0</td>\n",
       "    </tr>\n",
       "    <tr>\n",
       "      <td>1-10</td>\n",
       "      <td>64.0</td>\n",
       "      <td>66.0</td>\n",
       "      <td>70.0</td>\n",
       "      <td>69.0</td>\n",
       "      <td>70.0</td>\n",
       "      <td>69.0</td>\n",
       "      <td>77.0</td>\n",
       "      <td>100.0</td>\n",
       "      <td>76.0</td>\n",
       "      <td>69.0</td>\n",
       "      <td>...</td>\n",
       "      <td>72.0</td>\n",
       "      <td>73.0</td>\n",
       "      <td>73.0</td>\n",
       "      <td>77.0</td>\n",
       "      <td>77.0</td>\n",
       "      <td>77.0</td>\n",
       "      <td>77.0</td>\n",
       "      <td>76.0</td>\n",
       "      <td>76.0</td>\n",
       "      <td>75.0</td>\n",
       "    </tr>\n",
       "  </tbody>\n",
       "</table>\n",
       "<p>2 rows × 150 columns</p>\n",
       "</div>"
      ],
      "text/plain": [
       "      xx1_0  xx1_1  xx1_10  xx1_11  xx1_12  xx1_13  xx1_14  xx1_15  xx1_16  \\\n",
       "key                                                                          \n",
       "0-28   82.0   82.0    79.0    77.0    78.0    76.0    78.0    83.0    83.0   \n",
       "1-10   64.0   66.0    70.0    69.0    70.0    69.0    77.0   100.0    76.0   \n",
       "\n",
       "      xx1_17  ...  xx5_27  xx5_28  xx5_29  xx5_3  xx5_4  xx5_5  xx5_6  xx5_7  \\\n",
       "key           ...                                                              \n",
       "0-28    82.0  ...    84.0    91.0    88.0   85.0   85.0   83.0   83.0   83.0   \n",
       "1-10    69.0  ...    72.0    73.0    73.0   77.0   77.0   77.0   77.0   76.0   \n",
       "\n",
       "      xx5_8  xx5_9  \n",
       "key                 \n",
       "0-28   82.0   84.0  \n",
       "1-10   76.0   75.0  \n",
       "\n",
       "[2 rows x 150 columns]"
      ]
     },
     "execution_count": 232,
     "metadata": {},
     "output_type": "execute_result"
    }
   ],
   "source": [
    "train_pivoted.head(2)"
   ]
  },
  {
   "cell_type": "code",
   "execution_count": 233,
   "metadata": {},
   "outputs": [
    {
     "data": {
      "text/html": [
       "<div>\n",
       "<style scoped>\n",
       "    .dataframe tbody tr th:only-of-type {\n",
       "        vertical-align: middle;\n",
       "    }\n",
       "\n",
       "    .dataframe tbody tr th {\n",
       "        vertical-align: top;\n",
       "    }\n",
       "\n",
       "    .dataframe thead th {\n",
       "        text-align: right;\n",
       "    }\n",
       "</style>\n",
       "<table border=\"1\" class=\"dataframe\">\n",
       "  <thead>\n",
       "    <tr style=\"text-align: right;\">\n",
       "      <th></th>\n",
       "      <th>xx1_0</th>\n",
       "      <th>xx1_1</th>\n",
       "      <th>xx1_10</th>\n",
       "      <th>xx1_11</th>\n",
       "      <th>xx1_12</th>\n",
       "      <th>xx1_13</th>\n",
       "      <th>xx1_14</th>\n",
       "      <th>xx1_15</th>\n",
       "      <th>xx1_16</th>\n",
       "      <th>xx1_17</th>\n",
       "      <th>...</th>\n",
       "      <th>xx5_27</th>\n",
       "      <th>xx5_28</th>\n",
       "      <th>xx5_29</th>\n",
       "      <th>xx5_3</th>\n",
       "      <th>xx5_4</th>\n",
       "      <th>xx5_5</th>\n",
       "      <th>xx5_6</th>\n",
       "      <th>xx5_7</th>\n",
       "      <th>xx5_8</th>\n",
       "      <th>xx5_9</th>\n",
       "    </tr>\n",
       "    <tr>\n",
       "      <th>key</th>\n",
       "      <th></th>\n",
       "      <th></th>\n",
       "      <th></th>\n",
       "      <th></th>\n",
       "      <th></th>\n",
       "      <th></th>\n",
       "      <th></th>\n",
       "      <th></th>\n",
       "      <th></th>\n",
       "      <th></th>\n",
       "      <th></th>\n",
       "      <th></th>\n",
       "      <th></th>\n",
       "      <th></th>\n",
       "      <th></th>\n",
       "      <th></th>\n",
       "      <th></th>\n",
       "      <th></th>\n",
       "      <th></th>\n",
       "      <th></th>\n",
       "      <th></th>\n",
       "    </tr>\n",
       "  </thead>\n",
       "  <tbody>\n",
       "    <tr>\n",
       "      <td>1005-1</td>\n",
       "      <td>59.0</td>\n",
       "      <td>60.0</td>\n",
       "      <td>68.0</td>\n",
       "      <td>67.0</td>\n",
       "      <td>58.0</td>\n",
       "      <td>62.0</td>\n",
       "      <td>58.0</td>\n",
       "      <td>57.0</td>\n",
       "      <td>56.0</td>\n",
       "      <td>55.0</td>\n",
       "      <td>...</td>\n",
       "      <td>67.0</td>\n",
       "      <td>60.0</td>\n",
       "      <td>61.0</td>\n",
       "      <td>69.0</td>\n",
       "      <td>78.0</td>\n",
       "      <td>75.0</td>\n",
       "      <td>72.0</td>\n",
       "      <td>76.0</td>\n",
       "      <td>72.0</td>\n",
       "      <td>73.0</td>\n",
       "    </tr>\n",
       "    <tr>\n",
       "      <td>1005-10</td>\n",
       "      <td>77.0</td>\n",
       "      <td>76.0</td>\n",
       "      <td>79.0</td>\n",
       "      <td>76.0</td>\n",
       "      <td>71.0</td>\n",
       "      <td>76.0</td>\n",
       "      <td>78.0</td>\n",
       "      <td>76.0</td>\n",
       "      <td>78.0</td>\n",
       "      <td>70.0</td>\n",
       "      <td>...</td>\n",
       "      <td>73.0</td>\n",
       "      <td>72.0</td>\n",
       "      <td>68.0</td>\n",
       "      <td>71.0</td>\n",
       "      <td>70.0</td>\n",
       "      <td>76.0</td>\n",
       "      <td>68.0</td>\n",
       "      <td>70.0</td>\n",
       "      <td>70.0</td>\n",
       "      <td>70.0</td>\n",
       "    </tr>\n",
       "  </tbody>\n",
       "</table>\n",
       "<p>2 rows × 150 columns</p>\n",
       "</div>"
      ],
      "text/plain": [
       "         xx1_0  xx1_1  xx1_10  xx1_11  xx1_12  xx1_13  xx1_14  xx1_15  xx1_16  \\\n",
       "key                                                                             \n",
       "1005-1    59.0   60.0    68.0    67.0    58.0    62.0    58.0    57.0    56.0   \n",
       "1005-10   77.0   76.0    79.0    76.0    71.0    76.0    78.0    76.0    78.0   \n",
       "\n",
       "         xx1_17  ...  xx5_27  xx5_28  xx5_29  xx5_3  xx5_4  xx5_5  xx5_6  \\\n",
       "key              ...                                                       \n",
       "1005-1     55.0  ...    67.0    60.0    61.0   69.0   78.0   75.0   72.0   \n",
       "1005-10    70.0  ...    73.0    72.0    68.0   71.0   70.0   76.0   68.0   \n",
       "\n",
       "         xx5_7  xx5_8  xx5_9  \n",
       "key                           \n",
       "1005-1    76.0   72.0   73.0  \n",
       "1005-10   70.0   70.0   70.0  \n",
       "\n",
       "[2 rows x 150 columns]"
      ]
     },
     "execution_count": 233,
     "metadata": {},
     "output_type": "execute_result"
    }
   ],
   "source": [
    "test_pivoted.head(2)"
   ]
  },
  {
   "cell_type": "markdown",
   "metadata": {},
   "source": [
    "### aggregation over key on the originally loaded dataset. \n",
    "NOTE this is a new df which will be later merged to the pivoted ones"
   ]
  },
  {
   "cell_type": "code",
   "execution_count": 234,
   "metadata": {},
   "outputs": [],
   "source": [
    "df_train = df_train_raw.groupby(['key']).mean().reset_index()"
   ]
  },
  {
   "cell_type": "code",
   "execution_count": 235,
   "metadata": {},
   "outputs": [],
   "source": [
    "df_test = df_test_raw.groupby(['key']).mean().reset_index()"
   ]
  },
  {
   "cell_type": "code",
   "execution_count": 236,
   "metadata": {},
   "outputs": [
    {
     "data": {
      "text/html": [
       "<div>\n",
       "<style scoped>\n",
       "    .dataframe tbody tr th:only-of-type {\n",
       "        vertical-align: middle;\n",
       "    }\n",
       "\n",
       "    .dataframe tbody tr th {\n",
       "        vertical-align: top;\n",
       "    }\n",
       "\n",
       "    .dataframe thead th {\n",
       "        text-align: right;\n",
       "    }\n",
       "</style>\n",
       "<table border=\"1\" class=\"dataframe\">\n",
       "  <thead>\n",
       "    <tr style=\"text-align: right;\">\n",
       "      <th></th>\n",
       "      <th>key</th>\n",
       "      <th>gender</th>\n",
       "      <th>age</th>\n",
       "      <th>x1</th>\n",
       "      <th>x2</th>\n",
       "      <th>x3</th>\n",
       "      <th>x4</th>\n",
       "      <th>x5</th>\n",
       "      <th>x6</th>\n",
       "      <th>xx1</th>\n",
       "      <th>xx2</th>\n",
       "      <th>xx3</th>\n",
       "      <th>xx4</th>\n",
       "      <th>xx5</th>\n",
       "      <th>y_mean_MAP</th>\n",
       "      <th>y_mean_HR</th>\n",
       "    </tr>\n",
       "  </thead>\n",
       "  <tbody>\n",
       "    <tr>\n",
       "      <td>0</td>\n",
       "      <td>0-28</td>\n",
       "      <td>0</td>\n",
       "      <td>72</td>\n",
       "      <td>39</td>\n",
       "      <td>5</td>\n",
       "      <td>1</td>\n",
       "      <td>0</td>\n",
       "      <td>0</td>\n",
       "      <td>0</td>\n",
       "      <td>80.166667</td>\n",
       "      <td>99.733333</td>\n",
       "      <td>113.433333</td>\n",
       "      <td>69.566667</td>\n",
       "      <td>87.000000</td>\n",
       "      <td>86.426667</td>\n",
       "      <td>79.13</td>\n",
       "    </tr>\n",
       "    <tr>\n",
       "      <td>1</td>\n",
       "      <td>1-10</td>\n",
       "      <td>1</td>\n",
       "      <td>64</td>\n",
       "      <td>55</td>\n",
       "      <td>9</td>\n",
       "      <td>5</td>\n",
       "      <td>1</td>\n",
       "      <td>0</td>\n",
       "      <td>1</td>\n",
       "      <td>72.100000</td>\n",
       "      <td>99.800000</td>\n",
       "      <td>113.900000</td>\n",
       "      <td>59.600000</td>\n",
       "      <td>76.466667</td>\n",
       "      <td>73.033333</td>\n",
       "      <td>72.92</td>\n",
       "    </tr>\n",
       "  </tbody>\n",
       "</table>\n",
       "</div>"
      ],
      "text/plain": [
       "    key  gender  age  x1  x2  x3  x4  x5  x6        xx1        xx2  \\\n",
       "0  0-28       0   72  39   5   1   0   0   0  80.166667  99.733333   \n",
       "1  1-10       1   64  55   9   5   1   0   1  72.100000  99.800000   \n",
       "\n",
       "          xx3        xx4        xx5  y_mean_MAP  y_mean_HR  \n",
       "0  113.433333  69.566667  87.000000   86.426667      79.13  \n",
       "1  113.900000  59.600000  76.466667   73.033333      72.92  "
      ]
     },
     "execution_count": 236,
     "metadata": {},
     "output_type": "execute_result"
    }
   ],
   "source": [
    "df_train.head(2)"
   ]
  },
  {
   "cell_type": "markdown",
   "metadata": {},
   "source": [
    "### adding more non-linear features like min, max and median"
   ]
  },
  {
   "cell_type": "code",
   "execution_count": 237,
   "metadata": {},
   "outputs": [
    {
     "data": {
      "text/html": [
       "<div>\n",
       "<style scoped>\n",
       "    .dataframe tbody tr th:only-of-type {\n",
       "        vertical-align: middle;\n",
       "    }\n",
       "\n",
       "    .dataframe tbody tr th {\n",
       "        vertical-align: top;\n",
       "    }\n",
       "\n",
       "    .dataframe thead th {\n",
       "        text-align: right;\n",
       "    }\n",
       "</style>\n",
       "<table border=\"1\" class=\"dataframe\">\n",
       "  <thead>\n",
       "    <tr style=\"text-align: right;\">\n",
       "      <th></th>\n",
       "      <th>key</th>\n",
       "      <th>xx1_min</th>\n",
       "      <th>xx1_median</th>\n",
       "      <th>xx1_max</th>\n",
       "      <th>xx2_min</th>\n",
       "      <th>xx2_median</th>\n",
       "      <th>xx2_max</th>\n",
       "      <th>xx3_min</th>\n",
       "      <th>xx3_median</th>\n",
       "      <th>xx3_max</th>\n",
       "      <th>xx4_min</th>\n",
       "      <th>xx4_median</th>\n",
       "      <th>xx4_max</th>\n",
       "      <th>xx5_min</th>\n",
       "      <th>xx5_median</th>\n",
       "      <th>xx5_max</th>\n",
       "    </tr>\n",
       "  </thead>\n",
       "  <tbody>\n",
       "    <tr>\n",
       "      <td>0</td>\n",
       "      <td>0-28</td>\n",
       "      <td>76.0</td>\n",
       "      <td>80.0</td>\n",
       "      <td>84.0</td>\n",
       "      <td>96.0</td>\n",
       "      <td>100.0</td>\n",
       "      <td>100.0</td>\n",
       "      <td>102.0</td>\n",
       "      <td>113.0</td>\n",
       "      <td>128.0</td>\n",
       "      <td>65.0</td>\n",
       "      <td>68.0</td>\n",
       "      <td>78.0</td>\n",
       "      <td>82.0</td>\n",
       "      <td>85.0</td>\n",
       "      <td>98.0</td>\n",
       "    </tr>\n",
       "    <tr>\n",
       "      <td>1</td>\n",
       "      <td>1-10</td>\n",
       "      <td>64.0</td>\n",
       "      <td>70.5</td>\n",
       "      <td>100.0</td>\n",
       "      <td>99.0</td>\n",
       "      <td>100.0</td>\n",
       "      <td>100.0</td>\n",
       "      <td>106.0</td>\n",
       "      <td>114.0</td>\n",
       "      <td>130.0</td>\n",
       "      <td>53.0</td>\n",
       "      <td>59.0</td>\n",
       "      <td>77.0</td>\n",
       "      <td>72.0</td>\n",
       "      <td>76.0</td>\n",
       "      <td>88.0</td>\n",
       "    </tr>\n",
       "    <tr>\n",
       "      <td>2</td>\n",
       "      <td>1-11</td>\n",
       "      <td>68.0</td>\n",
       "      <td>71.5</td>\n",
       "      <td>74.0</td>\n",
       "      <td>99.0</td>\n",
       "      <td>100.0</td>\n",
       "      <td>100.0</td>\n",
       "      <td>108.0</td>\n",
       "      <td>113.0</td>\n",
       "      <td>124.0</td>\n",
       "      <td>58.0</td>\n",
       "      <td>59.0</td>\n",
       "      <td>62.0</td>\n",
       "      <td>73.0</td>\n",
       "      <td>75.0</td>\n",
       "      <td>78.0</td>\n",
       "    </tr>\n",
       "  </tbody>\n",
       "</table>\n",
       "</div>"
      ],
      "text/plain": [
       "    key  xx1_min  xx1_median  xx1_max  xx2_min  xx2_median  xx2_max  xx3_min  \\\n",
       "0  0-28     76.0        80.0     84.0     96.0       100.0    100.0    102.0   \n",
       "1  1-10     64.0        70.5    100.0     99.0       100.0    100.0    106.0   \n",
       "2  1-11     68.0        71.5     74.0     99.0       100.0    100.0    108.0   \n",
       "\n",
       "   xx3_median  xx3_max  xx4_min  xx4_median  xx4_max  xx5_min  xx5_median  \\\n",
       "0       113.0    128.0     65.0        68.0     78.0     82.0        85.0   \n",
       "1       114.0    130.0     53.0        59.0     77.0     72.0        76.0   \n",
       "2       113.0    124.0     58.0        59.0     62.0     73.0        75.0   \n",
       "\n",
       "   xx5_max  \n",
       "0     98.0  \n",
       "1     88.0  \n",
       "2     78.0  "
      ]
     },
     "execution_count": 237,
     "metadata": {},
     "output_type": "execute_result"
    }
   ],
   "source": [
    "stats_train = df_train_raw.groupby(['key']).agg({'xx1':['min','median','max'],'xx2':['min','median','max'],\n",
    "                                                        'xx3':['min','median','max'],'xx4':['min','median','max'],\n",
    "                                                        'xx5':['min','median','max']\n",
    "                                                       }).reset_index()\n",
    "stats_train.columns = ['key','xx1_min','xx1_median','xx1_max', 'xx2_min','xx2_median','xx2_max',\n",
    "                 'xx3_min','xx3_median','xx3_max','xx4_min','xx4_median','xx4_max',\n",
    "                 'xx5_min','xx5_median','xx5_max']\n",
    "stats_train.head(3)\n",
    "# df_train = df_train.merge(stats, on = 'key', how = 'left')"
   ]
  },
  {
   "cell_type": "code",
   "execution_count": 238,
   "metadata": {},
   "outputs": [
    {
     "data": {
      "text/html": [
       "<div>\n",
       "<style scoped>\n",
       "    .dataframe tbody tr th:only-of-type {\n",
       "        vertical-align: middle;\n",
       "    }\n",
       "\n",
       "    .dataframe tbody tr th {\n",
       "        vertical-align: top;\n",
       "    }\n",
       "\n",
       "    .dataframe thead th {\n",
       "        text-align: right;\n",
       "    }\n",
       "</style>\n",
       "<table border=\"1\" class=\"dataframe\">\n",
       "  <thead>\n",
       "    <tr style=\"text-align: right;\">\n",
       "      <th></th>\n",
       "      <th>key</th>\n",
       "      <th>xx1_min</th>\n",
       "      <th>xx1_median</th>\n",
       "      <th>xx1_max</th>\n",
       "      <th>xx2_min</th>\n",
       "      <th>xx2_median</th>\n",
       "      <th>xx2_max</th>\n",
       "      <th>xx3_min</th>\n",
       "      <th>xx3_median</th>\n",
       "      <th>xx3_max</th>\n",
       "      <th>xx4_min</th>\n",
       "      <th>xx4_median</th>\n",
       "      <th>xx4_max</th>\n",
       "      <th>xx5_min</th>\n",
       "      <th>xx5_median</th>\n",
       "      <th>xx5_max</th>\n",
       "    </tr>\n",
       "  </thead>\n",
       "  <tbody>\n",
       "    <tr>\n",
       "      <td>0</td>\n",
       "      <td>1005-1</td>\n",
       "      <td>53.0</td>\n",
       "      <td>57.5</td>\n",
       "      <td>68.0</td>\n",
       "      <td>96.0</td>\n",
       "      <td>99.0</td>\n",
       "      <td>100.0</td>\n",
       "      <td>110.0</td>\n",
       "      <td>123.5</td>\n",
       "      <td>152.0</td>\n",
       "      <td>35.0</td>\n",
       "      <td>42.5</td>\n",
       "      <td>60.0</td>\n",
       "      <td>60.0</td>\n",
       "      <td>71.5</td>\n",
       "      <td>94.0</td>\n",
       "    </tr>\n",
       "    <tr>\n",
       "      <td>1</td>\n",
       "      <td>1005-10</td>\n",
       "      <td>70.0</td>\n",
       "      <td>76.0</td>\n",
       "      <td>94.0</td>\n",
       "      <td>95.0</td>\n",
       "      <td>97.0</td>\n",
       "      <td>100.0</td>\n",
       "      <td>119.0</td>\n",
       "      <td>126.0</td>\n",
       "      <td>141.0</td>\n",
       "      <td>45.0</td>\n",
       "      <td>48.0</td>\n",
       "      <td>58.0</td>\n",
       "      <td>68.0</td>\n",
       "      <td>71.0</td>\n",
       "      <td>86.0</td>\n",
       "    </tr>\n",
       "    <tr>\n",
       "      <td>2</td>\n",
       "      <td>1005-11</td>\n",
       "      <td>57.0</td>\n",
       "      <td>65.0</td>\n",
       "      <td>100.0</td>\n",
       "      <td>89.0</td>\n",
       "      <td>92.0</td>\n",
       "      <td>97.0</td>\n",
       "      <td>102.0</td>\n",
       "      <td>108.0</td>\n",
       "      <td>120.0</td>\n",
       "      <td>45.0</td>\n",
       "      <td>48.5</td>\n",
       "      <td>55.0</td>\n",
       "      <td>61.0</td>\n",
       "      <td>65.0</td>\n",
       "      <td>73.0</td>\n",
       "    </tr>\n",
       "  </tbody>\n",
       "</table>\n",
       "</div>"
      ],
      "text/plain": [
       "       key  xx1_min  xx1_median  xx1_max  xx2_min  xx2_median  xx2_max  \\\n",
       "0   1005-1     53.0        57.5     68.0     96.0        99.0    100.0   \n",
       "1  1005-10     70.0        76.0     94.0     95.0        97.0    100.0   \n",
       "2  1005-11     57.0        65.0    100.0     89.0        92.0     97.0   \n",
       "\n",
       "   xx3_min  xx3_median  xx3_max  xx4_min  xx4_median  xx4_max  xx5_min  \\\n",
       "0    110.0       123.5    152.0     35.0        42.5     60.0     60.0   \n",
       "1    119.0       126.0    141.0     45.0        48.0     58.0     68.0   \n",
       "2    102.0       108.0    120.0     45.0        48.5     55.0     61.0   \n",
       "\n",
       "   xx5_median  xx5_max  \n",
       "0        71.5     94.0  \n",
       "1        71.0     86.0  \n",
       "2        65.0     73.0  "
      ]
     },
     "execution_count": 238,
     "metadata": {},
     "output_type": "execute_result"
    }
   ],
   "source": [
    "stats_test = df_test_raw.groupby(['key']).agg({'xx1':['min','median','max'],'xx2':['min','median','max'],\n",
    "                                                        'xx3':['min','median','max'],'xx4':['min','median','max'],\n",
    "                                                        'xx5':['min','median','max']\n",
    "                                                       }).reset_index()\n",
    "stats_test.columns = ['key','xx1_min','xx1_median','xx1_max', 'xx2_min','xx2_median','xx2_max',\n",
    "                 'xx3_min','xx3_median','xx3_max','xx4_min','xx4_median','xx4_max',\n",
    "                 'xx5_min','xx5_median','xx5_max']\n",
    "stats_test.head(3)\n",
    "# df_test = df_test.merge(stats, on = 'key', how = 'left')"
   ]
  },
  {
   "cell_type": "markdown",
   "metadata": {},
   "source": [
    "### merging the three data frames that we created above"
   ]
  },
  {
   "cell_type": "code",
   "execution_count": 239,
   "metadata": {},
   "outputs": [],
   "source": [
    "df_train = df_train.merge(stats_train, on = 'key', how = 'left')\n",
    "df_train = df_train.merge(train_pivoted, on='key', how = 'left')"
   ]
  },
  {
   "cell_type": "code",
   "execution_count": 240,
   "metadata": {},
   "outputs": [],
   "source": [
    "df_test = df_test.merge(stats_test, on = 'key', how = 'left')\n",
    "df_test = df_test.merge(test_pivoted, on='key', how = 'left')"
   ]
  },
  {
   "cell_type": "code",
   "execution_count": 241,
   "metadata": {},
   "outputs": [
    {
     "data": {
      "text/html": [
       "<div>\n",
       "<style scoped>\n",
       "    .dataframe tbody tr th:only-of-type {\n",
       "        vertical-align: middle;\n",
       "    }\n",
       "\n",
       "    .dataframe tbody tr th {\n",
       "        vertical-align: top;\n",
       "    }\n",
       "\n",
       "    .dataframe thead th {\n",
       "        text-align: right;\n",
       "    }\n",
       "</style>\n",
       "<table border=\"1\" class=\"dataframe\">\n",
       "  <thead>\n",
       "    <tr style=\"text-align: right;\">\n",
       "      <th></th>\n",
       "      <th>key</th>\n",
       "      <th>gender</th>\n",
       "      <th>age</th>\n",
       "      <th>x1</th>\n",
       "      <th>x2</th>\n",
       "      <th>x3</th>\n",
       "      <th>x4</th>\n",
       "      <th>x5</th>\n",
       "      <th>x6</th>\n",
       "      <th>xx1</th>\n",
       "      <th>...</th>\n",
       "      <th>xx5_27</th>\n",
       "      <th>xx5_28</th>\n",
       "      <th>xx5_29</th>\n",
       "      <th>xx5_3</th>\n",
       "      <th>xx5_4</th>\n",
       "      <th>xx5_5</th>\n",
       "      <th>xx5_6</th>\n",
       "      <th>xx5_7</th>\n",
       "      <th>xx5_8</th>\n",
       "      <th>xx5_9</th>\n",
       "    </tr>\n",
       "  </thead>\n",
       "  <tbody>\n",
       "    <tr>\n",
       "      <td>0</td>\n",
       "      <td>0-28</td>\n",
       "      <td>0</td>\n",
       "      <td>72</td>\n",
       "      <td>39</td>\n",
       "      <td>5</td>\n",
       "      <td>1</td>\n",
       "      <td>0</td>\n",
       "      <td>0</td>\n",
       "      <td>0</td>\n",
       "      <td>80.166667</td>\n",
       "      <td>...</td>\n",
       "      <td>84.0</td>\n",
       "      <td>91.0</td>\n",
       "      <td>88.0</td>\n",
       "      <td>85.0</td>\n",
       "      <td>85.0</td>\n",
       "      <td>83.0</td>\n",
       "      <td>83.0</td>\n",
       "      <td>83.0</td>\n",
       "      <td>82.0</td>\n",
       "      <td>84.0</td>\n",
       "    </tr>\n",
       "    <tr>\n",
       "      <td>1</td>\n",
       "      <td>1-10</td>\n",
       "      <td>1</td>\n",
       "      <td>64</td>\n",
       "      <td>55</td>\n",
       "      <td>9</td>\n",
       "      <td>5</td>\n",
       "      <td>1</td>\n",
       "      <td>0</td>\n",
       "      <td>1</td>\n",
       "      <td>72.100000</td>\n",
       "      <td>...</td>\n",
       "      <td>72.0</td>\n",
       "      <td>73.0</td>\n",
       "      <td>73.0</td>\n",
       "      <td>77.0</td>\n",
       "      <td>77.0</td>\n",
       "      <td>77.0</td>\n",
       "      <td>77.0</td>\n",
       "      <td>76.0</td>\n",
       "      <td>76.0</td>\n",
       "      <td>75.0</td>\n",
       "    </tr>\n",
       "  </tbody>\n",
       "</table>\n",
       "<p>2 rows × 181 columns</p>\n",
       "</div>"
      ],
      "text/plain": [
       "    key  gender  age  x1  x2  x3  x4  x5  x6        xx1  ...  xx5_27  xx5_28  \\\n",
       "0  0-28       0   72  39   5   1   0   0   0  80.166667  ...    84.0    91.0   \n",
       "1  1-10       1   64  55   9   5   1   0   1  72.100000  ...    72.0    73.0   \n",
       "\n",
       "   xx5_29  xx5_3  xx5_4  xx5_5  xx5_6  xx5_7  xx5_8  xx5_9  \n",
       "0    88.0   85.0   85.0   83.0   83.0   83.0   82.0   84.0  \n",
       "1    73.0   77.0   77.0   77.0   77.0   76.0   76.0   75.0  \n",
       "\n",
       "[2 rows x 181 columns]"
      ]
     },
     "execution_count": 241,
     "metadata": {},
     "output_type": "execute_result"
    }
   ],
   "source": [
    "df_train.head(2)"
   ]
  },
  {
   "cell_type": "code",
   "execution_count": 242,
   "metadata": {},
   "outputs": [
    {
     "data": {
      "text/html": [
       "<div>\n",
       "<style scoped>\n",
       "    .dataframe tbody tr th:only-of-type {\n",
       "        vertical-align: middle;\n",
       "    }\n",
       "\n",
       "    .dataframe tbody tr th {\n",
       "        vertical-align: top;\n",
       "    }\n",
       "\n",
       "    .dataframe thead th {\n",
       "        text-align: right;\n",
       "    }\n",
       "</style>\n",
       "<table border=\"1\" class=\"dataframe\">\n",
       "  <thead>\n",
       "    <tr style=\"text-align: right;\">\n",
       "      <th></th>\n",
       "      <th>key</th>\n",
       "      <th>gender</th>\n",
       "      <th>age</th>\n",
       "      <th>x1</th>\n",
       "      <th>x2</th>\n",
       "      <th>x3</th>\n",
       "      <th>x4</th>\n",
       "      <th>x5</th>\n",
       "      <th>x6</th>\n",
       "      <th>xx1</th>\n",
       "      <th>...</th>\n",
       "      <th>xx5_27</th>\n",
       "      <th>xx5_28</th>\n",
       "      <th>xx5_29</th>\n",
       "      <th>xx5_3</th>\n",
       "      <th>xx5_4</th>\n",
       "      <th>xx5_5</th>\n",
       "      <th>xx5_6</th>\n",
       "      <th>xx5_7</th>\n",
       "      <th>xx5_8</th>\n",
       "      <th>xx5_9</th>\n",
       "    </tr>\n",
       "  </thead>\n",
       "  <tbody>\n",
       "    <tr>\n",
       "      <td>0</td>\n",
       "      <td>1005-1</td>\n",
       "      <td>0</td>\n",
       "      <td>80</td>\n",
       "      <td>41</td>\n",
       "      <td>4</td>\n",
       "      <td>2</td>\n",
       "      <td>1</td>\n",
       "      <td>0</td>\n",
       "      <td>0</td>\n",
       "      <td>57.866667</td>\n",
       "      <td>...</td>\n",
       "      <td>67.0</td>\n",
       "      <td>60.0</td>\n",
       "      <td>61.0</td>\n",
       "      <td>69.0</td>\n",
       "      <td>78.0</td>\n",
       "      <td>75.0</td>\n",
       "      <td>72.0</td>\n",
       "      <td>76.0</td>\n",
       "      <td>72.0</td>\n",
       "      <td>73.0</td>\n",
       "    </tr>\n",
       "    <tr>\n",
       "      <td>1</td>\n",
       "      <td>1005-10</td>\n",
       "      <td>0</td>\n",
       "      <td>80</td>\n",
       "      <td>41</td>\n",
       "      <td>4</td>\n",
       "      <td>2</td>\n",
       "      <td>0</td>\n",
       "      <td>0</td>\n",
       "      <td>0</td>\n",
       "      <td>75.766667</td>\n",
       "      <td>...</td>\n",
       "      <td>73.0</td>\n",
       "      <td>72.0</td>\n",
       "      <td>68.0</td>\n",
       "      <td>71.0</td>\n",
       "      <td>70.0</td>\n",
       "      <td>76.0</td>\n",
       "      <td>68.0</td>\n",
       "      <td>70.0</td>\n",
       "      <td>70.0</td>\n",
       "      <td>70.0</td>\n",
       "    </tr>\n",
       "  </tbody>\n",
       "</table>\n",
       "<p>2 rows × 179 columns</p>\n",
       "</div>"
      ],
      "text/plain": [
       "       key  gender  age  x1  x2  x3  x4  x5  x6        xx1  ...  xx5_27  \\\n",
       "0   1005-1       0   80  41   4   2   1   0   0  57.866667  ...    67.0   \n",
       "1  1005-10       0   80  41   4   2   0   0   0  75.766667  ...    73.0   \n",
       "\n",
       "   xx5_28  xx5_29  xx5_3  xx5_4  xx5_5  xx5_6  xx5_7  xx5_8  xx5_9  \n",
       "0    60.0    61.0   69.0   78.0   75.0   72.0   76.0   72.0   73.0  \n",
       "1    72.0    68.0   71.0   70.0   76.0   68.0   70.0   70.0   70.0  \n",
       "\n",
       "[2 rows x 179 columns]"
      ]
     },
     "execution_count": 242,
     "metadata": {},
     "output_type": "execute_result"
    }
   ],
   "source": [
    "df_test.head(2)"
   ]
  },
  {
   "cell_type": "markdown",
   "metadata": {},
   "source": [
    "### defining training and validation data\n",
    "#### train test split"
   ]
  },
  {
   "cell_type": "code",
   "execution_count": 155,
   "metadata": {},
   "outputs": [],
   "source": [
    "train = df_train.drop(['y_mean_HR','y_mean_MAP','key'], axis=1)"
   ]
  },
  {
   "cell_type": "code",
   "execution_count": 156,
   "metadata": {},
   "outputs": [],
   "source": [
    "y_mean_MAP=df_train['y_mean_MAP']\n",
    "y_mean_HR=df_train['y_mean_HR']"
   ]
  },
  {
   "cell_type": "code",
   "execution_count": 201,
   "metadata": {},
   "outputs": [],
   "source": [
    "valid_idx = range(int(df_train.shape[0]*80/100), df_train.shape[0])\n",
    "train_idx = range(int(df_train.shape[0]*80/100))"
   ]
  },
  {
   "cell_type": "code",
   "execution_count": 202,
   "metadata": {},
   "outputs": [],
   "source": [
    "X_map_train = train.loc[train_idx,:]\n",
    "X_map_val = train.loc[valid_idx,:]\n",
    "y_map_train = y_mean_MAP.loc[train_idx]\n",
    "y_map_val = y_mean_MAP.loc[valid_idx]"
   ]
  },
  {
   "cell_type": "code",
   "execution_count": 203,
   "metadata": {},
   "outputs": [],
   "source": [
    "X_hr_train = train.loc[train_idx,:]\n",
    "X_hr_val = train.loc[valid_idx,:]\n",
    "y_hr_train = y_mean_HR.loc[train_idx]\n",
    "y_hr_val = y_mean_HR.loc[valid_idx]"
   ]
  },
  {
   "cell_type": "code",
   "execution_count": 204,
   "metadata": {},
   "outputs": [
    {
     "data": {
      "text/plain": [
       "((35959, 178), (8990, 178), (35959, 178), (8990, 178))"
      ]
     },
     "execution_count": 204,
     "metadata": {},
     "output_type": "execute_result"
    }
   ],
   "source": [
    "X_map_train.shape, X_map_val.shape , X_hr_train.shape, X_hr_val.shape"
   ]
  },
  {
   "cell_type": "code",
   "execution_count": 205,
   "metadata": {},
   "outputs": [
    {
     "data": {
      "text/plain": [
       "((35959,), (8990,))"
      ]
     },
     "execution_count": 205,
     "metadata": {},
     "output_type": "execute_result"
    }
   ],
   "source": [
    "y_map_train.shape, y_map_val.shape"
   ]
  },
  {
   "cell_type": "markdown",
   "metadata": {},
   "source": [
    "### XGBoost on y_mean_MAP (Model 2)"
   ]
  },
  {
   "cell_type": "code",
   "execution_count": 206,
   "metadata": {},
   "outputs": [
    {
     "data": {
      "text/plain": [
       "Index(['gender', 'age', 'x1', 'x2', 'x3', 'x4', 'x5', 'x6', 'xx1', 'xx2',\n",
       "       ...\n",
       "       'xx5_27', 'xx5_28', 'xx5_29', 'xx5_3', 'xx5_4', 'xx5_5', 'xx5_6',\n",
       "       'xx5_7', 'xx5_8', 'xx5_9'],\n",
       "      dtype='object', length=178)"
      ]
     },
     "execution_count": 206,
     "metadata": {},
     "output_type": "execute_result"
    }
   ],
   "source": [
    "#feature selection\n",
    "X_map_train.columns"
   ]
  },
  {
   "cell_type": "code",
   "execution_count": 207,
   "metadata": {},
   "outputs": [
    {
     "name": "stderr",
     "output_type": "stream",
     "text": [
      "/opt/anaconda3/lib/python3.7/site-packages/xgboost/core.py:587: FutureWarning: Series.base is deprecated and will be removed in a future version\n",
      "  if getattr(data, 'base', None) is not None and \\\n"
     ]
    },
    {
     "name": "stdout",
     "output_type": "stream",
     "text": [
      "[03:12:05] WARNING: src/objective/regression_obj.cu:152: reg:linear is now deprecated in favor of reg:squarederror.\n"
     ]
    },
    {
     "data": {
      "text/plain": [
       "XGBRegressor(base_score=0.5, booster='gbtree', colsample_bylevel=1,\n",
       "             colsample_bynode=1, colsample_bytree=0.4, gamma=0,\n",
       "             importance_type='gain', learning_rate=0.01, max_delta_step=0,\n",
       "             max_depth=2, min_child_weight=1.5, missing=None, n_estimators=1200,\n",
       "             n_jobs=1, nthread=None, objective='reg:linear', random_state=0,\n",
       "             reg_alpha=0.75, reg_lambda=0.45, scale_pos_weight=1, seed=42,\n",
       "             silent=None, subsample=0.6, verbosity=1)"
      ]
     },
     "execution_count": 207,
     "metadata": {},
     "output_type": "execute_result"
    }
   ],
   "source": [
    "xgb_map = xgb.XGBRegressor(colsample_bytree=0.4,\n",
    "                 gamma=0,                 \n",
    "                 learning_rate=0.01,\n",
    "                 max_depth=2,\n",
    "                 min_child_weight=1.5,\n",
    "                 n_estimators=1200,                                                                    \n",
    "                 reg_alpha=0.75,\n",
    "                 reg_lambda=0.45,\n",
    "                 subsample=0.6,\n",
    "                 seed=42)\n",
    "xgb_map.fit(X_map_train,y_map_train)"
   ]
  },
  {
   "cell_type": "code",
   "execution_count": 208,
   "metadata": {},
   "outputs": [
    {
     "data": {
      "text/plain": [
       "0.8904210975550623"
      ]
     },
     "execution_count": 208,
     "metadata": {},
     "output_type": "execute_result"
    }
   ],
   "source": [
    "y_map_val_pred = xgb_map.predict(X_map_val)\n",
    "r2_score(y_map_val,y_map_val_pred)"
   ]
  },
  {
   "cell_type": "code",
   "execution_count": null,
   "metadata": {},
   "outputs": [],
   "source": []
  },
  {
   "cell_type": "markdown",
   "metadata": {},
   "source": [
    "### XGBoost on y_mean_HR (Model 2)"
   ]
  },
  {
   "cell_type": "code",
   "execution_count": 189,
   "metadata": {},
   "outputs": [
    {
     "data": {
      "text/plain": [
       "Index(['gender', 'age', 'x1', 'x2', 'x3', 'x4', 'x5', 'x6', 'xx1', 'xx2',\n",
       "       ...\n",
       "       'xx5_27', 'xx5_28', 'xx5_29', 'xx5_3', 'xx5_4', 'xx5_5', 'xx5_6',\n",
       "       'xx5_7', 'xx5_8', 'xx5_9'],\n",
       "      dtype='object', length=178)"
      ]
     },
     "execution_count": 189,
     "metadata": {},
     "output_type": "execute_result"
    }
   ],
   "source": [
    "#feature selection\n",
    "X_hr_train.columns"
   ]
  },
  {
   "cell_type": "code",
   "execution_count": 191,
   "metadata": {},
   "outputs": [
    {
     "name": "stderr",
     "output_type": "stream",
     "text": [
      "/opt/anaconda3/lib/python3.7/site-packages/xgboost/core.py:587: FutureWarning: Series.base is deprecated and will be removed in a future version\n",
      "  if getattr(data, 'base', None) is not None and \\\n"
     ]
    },
    {
     "name": "stdout",
     "output_type": "stream",
     "text": [
      "[03:03:46] WARNING: src/objective/regression_obj.cu:152: reg:linear is now deprecated in favor of reg:squarederror.\n"
     ]
    },
    {
     "data": {
      "text/plain": [
       "XGBRegressor(base_score=0.5, booster='gbtree', colsample_bylevel=1,\n",
       "             colsample_bynode=1, colsample_bytree=0.4, gamma=0,\n",
       "             importance_type='gain', learning_rate=0.01, max_delta_step=0,\n",
       "             max_depth=3, min_child_weight=1.5, missing=None, n_estimators=1000,\n",
       "             n_jobs=1, nthread=None, objective='reg:linear', random_state=0,\n",
       "             reg_alpha=0.75, reg_lambda=0.45, scale_pos_weight=1, seed=42,\n",
       "             silent=None, subsample=0.6, verbosity=1)"
      ]
     },
     "execution_count": 191,
     "metadata": {},
     "output_type": "execute_result"
    }
   ],
   "source": [
    "xgb_hr = xgb.XGBRegressor(colsample_bytree=0.4,\n",
    "                 gamma=0,                 \n",
    "                 learning_rate=0.01,\n",
    "                 max_depth=3,\n",
    "                 min_child_weight=1.5,\n",
    "                 n_estimators=1000,                                                                    \n",
    "                 reg_alpha=0.75,\n",
    "                 reg_lambda=0.45,\n",
    "                 subsample=0.6,\n",
    "                 seed=42)\n",
    "xgb_hr.fit(X_hr_train,y_hr_train)"
   ]
  },
  {
   "cell_type": "code",
   "execution_count": 192,
   "metadata": {},
   "outputs": [
    {
     "data": {
      "text/plain": [
       "0.9538499947016639"
      ]
     },
     "execution_count": 192,
     "metadata": {},
     "output_type": "execute_result"
    }
   ],
   "source": [
    "y_hr_val_pred = xgb_hr.predict(X_hr_val)\n",
    "r2_score(y_hr_val,y_hr_val_pred)"
   ]
  },
  {
   "cell_type": "code",
   "execution_count": null,
   "metadata": {},
   "outputs": [],
   "source": []
  },
  {
   "cell_type": "markdown",
   "metadata": {},
   "source": [
    "## Stacking multiple regressors (Model 3 - the selected one)"
   ]
  },
  {
   "cell_type": "code",
   "execution_count": 219,
   "metadata": {},
   "outputs": [],
   "source": [
    "from sklearn.linear_model import LinearRegression\n",
    "from sklearn.ensemble import RandomForestRegressor\n",
    "from sklearn.ensemble import VotingRegressor\n",
    "from sklearn import linear_model"
   ]
  },
  {
   "cell_type": "code",
   "execution_count": 2,
   "metadata": {},
   "outputs": [],
   "source": [
    "### For MAP"
   ]
  },
  {
   "cell_type": "code",
   "execution_count": 220,
   "metadata": {},
   "outputs": [
    {
     "data": {
      "text/plain": [
       "VotingRegressor(estimators=[('lr',\n",
       "                             LinearRegression(copy_X=True, fit_intercept=True,\n",
       "                                              n_jobs=-1, normalize=True)),\n",
       "                            ('rf',\n",
       "                             RandomForestRegressor(bootstrap=True,\n",
       "                                                   criterion='mse',\n",
       "                                                   max_depth=None,\n",
       "                                                   max_features='auto',\n",
       "                                                   max_leaf_nodes=None,\n",
       "                                                   min_impurity_decrease=0.0,\n",
       "                                                   min_impurity_split=None,\n",
       "                                                   min_samples_leaf=3,\n",
       "                                                   min_samples_split=2,\n",
       "                                                   min_weight_fraction_leaf=0.0,\n",
       "                                                   n_estimat...\n",
       "                                          colsample_bynode=1,\n",
       "                                          colsample_bytree=0.4, gamma=0,\n",
       "                                          importance_type='gain',\n",
       "                                          learning_rate=0.01, max_delta_step=0,\n",
       "                                          max_depth=3, min_child_weight=1.5,\n",
       "                                          missing=None, n_estimators=1000,\n",
       "                                          n_jobs=1, nthread=None,\n",
       "                                          objective='reg:linear',\n",
       "                                          random_state=0, reg_alpha=0.75,\n",
       "                                          reg_lambda=0.45, scale_pos_weight=1,\n",
       "                                          seed=42, silent=None, subsample=0.6,\n",
       "                                          verbosity=1))],\n",
       "                n_jobs=-1, weights=[0.2, 0.3, 0.5])"
      ]
     },
     "execution_count": 220,
     "metadata": {},
     "output_type": "execute_result"
    }
   ],
   "source": [
    "r1 = LinearRegression(normalize=True, n_jobs=-1, copy_X=True)\n",
    "r2 = RandomForestRegressor(\n",
    "    n_estimators=500,\n",
    "    criterion='mse',\n",
    "    min_samples_leaf=3,\n",
    "    max_features='auto',\n",
    "    max_leaf_nodes=None,\n",
    "    bootstrap=True,\n",
    "    oob_score=True,\n",
    "    n_jobs= -1,\n",
    "    random_state=42,\n",
    "    verbose=1,\n",
    ")\n",
    "r3 = xgb.XGBRegressor(colsample_bytree=0.4,\n",
    "                 gamma=0,                 \n",
    "                 learning_rate=0.01,\n",
    "                 max_depth=3,\n",
    "                 min_child_weight=1.5,\n",
    "                 n_estimators=1000,                                                                    \n",
    "                 reg_alpha=0.75,\n",
    "                 reg_lambda=0.45,\n",
    "                 subsample=0.6,\n",
    "                 seed=42)\n",
    "er = VotingRegressor([('lr', r1), ('rf', r2),('xgb', r3)], weights=[0.2, 0.3, 0.5], n_jobs=-1 )\n",
    "er.fit(X_map_train,y_map_train)"
   ]
  },
  {
   "cell_type": "code",
   "execution_count": 221,
   "metadata": {},
   "outputs": [
    {
     "name": "stderr",
     "output_type": "stream",
     "text": [
      "[Parallel(n_jobs=16)]: Using backend ThreadingBackend with 16 concurrent workers.\n",
      "[Parallel(n_jobs=16)]: Done  18 tasks      | elapsed:    0.0s\n",
      "[Parallel(n_jobs=16)]: Done 168 tasks      | elapsed:    0.1s\n",
      "[Parallel(n_jobs=16)]: Done 418 tasks      | elapsed:    0.1s\n",
      "[Parallel(n_jobs=16)]: Done 500 out of 500 | elapsed:    0.2s finished\n"
     ]
    },
    {
     "data": {
      "text/plain": [
       "0.8920121356611059"
      ]
     },
     "execution_count": 221,
     "metadata": {},
     "output_type": "execute_result"
    }
   ],
   "source": [
    "er_pred = er.predict(X_map_val)\n",
    "r2_score(y_map_val,er_pred)"
   ]
  },
  {
   "cell_type": "code",
   "execution_count": null,
   "metadata": {},
   "outputs": [],
   "source": []
  },
  {
   "cell_type": "code",
   "execution_count": null,
   "metadata": {},
   "outputs": [],
   "source": [
    "### For HR"
   ]
  },
  {
   "cell_type": "code",
   "execution_count": 222,
   "metadata": {},
   "outputs": [
    {
     "data": {
      "text/plain": [
       "VotingRegressor(estimators=[('lr',\n",
       "                             LinearRegression(copy_X=True, fit_intercept=True,\n",
       "                                              n_jobs=-1, normalize=True)),\n",
       "                            ('rf',\n",
       "                             RandomForestRegressor(bootstrap=True,\n",
       "                                                   criterion='mse',\n",
       "                                                   max_depth=None,\n",
       "                                                   max_features='auto',\n",
       "                                                   max_leaf_nodes=None,\n",
       "                                                   min_impurity_decrease=0.0,\n",
       "                                                   min_impurity_split=None,\n",
       "                                                   min_samples_leaf=3,\n",
       "                                                   min_samples_split=2,\n",
       "                                                   min_weight_fraction_leaf=0.0,\n",
       "                                                   n_estimat...\n",
       "                                          colsample_bynode=1,\n",
       "                                          colsample_bytree=0.4, gamma=0,\n",
       "                                          importance_type='gain',\n",
       "                                          learning_rate=0.01, max_delta_step=0,\n",
       "                                          max_depth=3, min_child_weight=1.5,\n",
       "                                          missing=None, n_estimators=1000,\n",
       "                                          n_jobs=1, nthread=None,\n",
       "                                          objective='reg:linear',\n",
       "                                          random_state=0, reg_alpha=0.75,\n",
       "                                          reg_lambda=0.45, scale_pos_weight=1,\n",
       "                                          seed=42, silent=None, subsample=0.6,\n",
       "                                          verbosity=1))],\n",
       "                n_jobs=-1, weights=[0.2, 0.2, 0.6])"
      ]
     },
     "execution_count": 222,
     "metadata": {},
     "output_type": "execute_result"
    }
   ],
   "source": [
    "r1_1 = LinearRegression(normalize=True, n_jobs=-1, copy_X=True)\n",
    "r2_1 = RandomForestRegressor(\n",
    "    n_estimators=500,\n",
    "    criterion='mse',\n",
    "    min_samples_leaf=3,\n",
    "    max_features='auto',\n",
    "    max_leaf_nodes=None,\n",
    "    bootstrap=True,\n",
    "    oob_score=True,\n",
    "    n_jobs= -1,\n",
    "    random_state=42,\n",
    "    verbose=1,\n",
    ")\n",
    "r3_1 = xgb.XGBRegressor(colsample_bytree=0.4,\n",
    "                 gamma=0,                 \n",
    "                 learning_rate=0.01,\n",
    "                 max_depth=3,\n",
    "                 min_child_weight=1.5,\n",
    "                 n_estimators=1000,                                                                    \n",
    "                 reg_alpha=0.75,\n",
    "                 reg_lambda=0.45,\n",
    "                 subsample=0.6,\n",
    "                 seed=42)\n",
    "er_1 = VotingRegressor([('lr', r1_1), ('rf', r2_1),('xgb', r3_1)], weights=[0.2, 0.2, 0.6], n_jobs=-1 )\n",
    "er_1.fit(X_hr_train,y_hr_train)"
   ]
  },
  {
   "cell_type": "code",
   "execution_count": 223,
   "metadata": {},
   "outputs": [
    {
     "name": "stderr",
     "output_type": "stream",
     "text": [
      "[Parallel(n_jobs=16)]: Using backend ThreadingBackend with 16 concurrent workers.\n",
      "[Parallel(n_jobs=16)]: Done  18 tasks      | elapsed:    0.0s\n",
      "[Parallel(n_jobs=16)]: Done 168 tasks      | elapsed:    0.1s\n",
      "[Parallel(n_jobs=16)]: Done 418 tasks      | elapsed:    0.1s\n",
      "[Parallel(n_jobs=16)]: Done 500 out of 500 | elapsed:    0.1s finished\n"
     ]
    },
    {
     "data": {
      "text/plain": [
       "0.9543744950486026"
      ]
     },
     "execution_count": 223,
     "metadata": {},
     "output_type": "execute_result"
    }
   ],
   "source": [
    "er_1_pred = er_1.predict(X_hr_val)\n",
    "r2_score(y_hr_val,er_1_pred)"
   ]
  },
  {
   "cell_type": "code",
   "execution_count": 225,
   "metadata": {},
   "outputs": [
    {
     "data": {
      "text/plain": [
       "(35959, 178)"
      ]
     },
     "execution_count": 225,
     "metadata": {},
     "output_type": "execute_result"
    }
   ],
   "source": [
    "X_hr_train.shape"
   ]
  },
  {
   "cell_type": "markdown",
   "metadata": {},
   "source": [
    "### Predictions on Test"
   ]
  },
  {
   "cell_type": "code",
   "execution_count": 243,
   "metadata": {},
   "outputs": [
    {
     "name": "stderr",
     "output_type": "stream",
     "text": [
      "[Parallel(n_jobs=16)]: Using backend ThreadingBackend with 16 concurrent workers.\n",
      "[Parallel(n_jobs=16)]: Done  18 tasks      | elapsed:    0.0s\n",
      "[Parallel(n_jobs=16)]: Done 168 tasks      | elapsed:    0.1s\n",
      "[Parallel(n_jobs=16)]: Done 418 tasks      | elapsed:    0.2s\n",
      "[Parallel(n_jobs=16)]: Done 500 out of 500 | elapsed:    0.2s finished\n"
     ]
    }
   ],
   "source": [
    "test_hr_pred = er_1.predict(df_test.drop('key', axis=1))"
   ]
  },
  {
   "cell_type": "code",
   "execution_count": 244,
   "metadata": {},
   "outputs": [
    {
     "name": "stderr",
     "output_type": "stream",
     "text": [
      "[Parallel(n_jobs=16)]: Using backend ThreadingBackend with 16 concurrent workers.\n",
      "[Parallel(n_jobs=16)]: Done  18 tasks      | elapsed:    0.0s\n",
      "[Parallel(n_jobs=16)]: Done 168 tasks      | elapsed:    0.1s\n",
      "[Parallel(n_jobs=16)]: Done 418 tasks      | elapsed:    0.2s\n",
      "[Parallel(n_jobs=16)]: Done 500 out of 500 | elapsed:    0.2s finished\n"
     ]
    }
   ],
   "source": [
    "test_map_pred = er.predict(df_test.drop('key', axis=1))"
   ]
  },
  {
   "cell_type": "code",
   "execution_count": 245,
   "metadata": {},
   "outputs": [],
   "source": [
    "df_test['y_mean_MAP'] = test_map_pred\n",
    "df_test['y_mean_HR'] = test_hr_pred"
   ]
  },
  {
   "cell_type": "code",
   "execution_count": 246,
   "metadata": {},
   "outputs": [],
   "source": [
    "df_submit = df_test[['key','y_mean_MAP','y_mean_HR']]"
   ]
  },
  {
   "cell_type": "code",
   "execution_count": 247,
   "metadata": {},
   "outputs": [
    {
     "data": {
      "text/html": [
       "<div>\n",
       "<style scoped>\n",
       "    .dataframe tbody tr th:only-of-type {\n",
       "        vertical-align: middle;\n",
       "    }\n",
       "\n",
       "    .dataframe tbody tr th {\n",
       "        vertical-align: top;\n",
       "    }\n",
       "\n",
       "    .dataframe thead th {\n",
       "        text-align: right;\n",
       "    }\n",
       "</style>\n",
       "<table border=\"1\" class=\"dataframe\">\n",
       "  <thead>\n",
       "    <tr style=\"text-align: right;\">\n",
       "      <th></th>\n",
       "      <th>key</th>\n",
       "      <th>y_mean_MAP</th>\n",
       "      <th>y_mean_HR</th>\n",
       "    </tr>\n",
       "  </thead>\n",
       "  <tbody>\n",
       "    <tr>\n",
       "      <td>0</td>\n",
       "      <td>1005-1</td>\n",
       "      <td>64.046467</td>\n",
       "      <td>55.222820</td>\n",
       "    </tr>\n",
       "    <tr>\n",
       "      <td>1</td>\n",
       "      <td>1005-10</td>\n",
       "      <td>71.324177</td>\n",
       "      <td>74.913520</td>\n",
       "    </tr>\n",
       "    <tr>\n",
       "      <td>2</td>\n",
       "      <td>1005-11</td>\n",
       "      <td>64.458873</td>\n",
       "      <td>66.226725</td>\n",
       "    </tr>\n",
       "    <tr>\n",
       "      <td>3</td>\n",
       "      <td>1005-12</td>\n",
       "      <td>68.622625</td>\n",
       "      <td>62.417755</td>\n",
       "    </tr>\n",
       "    <tr>\n",
       "      <td>4</td>\n",
       "      <td>1005-13</td>\n",
       "      <td>76.887255</td>\n",
       "      <td>75.127072</td>\n",
       "    </tr>\n",
       "  </tbody>\n",
       "</table>\n",
       "</div>"
      ],
      "text/plain": [
       "       key  y_mean_MAP  y_mean_HR\n",
       "0   1005-1   64.046467  55.222820\n",
       "1  1005-10   71.324177  74.913520\n",
       "2  1005-11   64.458873  66.226725\n",
       "3  1005-12   68.622625  62.417755\n",
       "4  1005-13   76.887255  75.127072"
      ]
     },
     "execution_count": 247,
     "metadata": {},
     "output_type": "execute_result"
    }
   ],
   "source": [
    "df_submit.head()"
   ]
  },
  {
   "cell_type": "code",
   "execution_count": 248,
   "metadata": {},
   "outputs": [
    {
     "data": {
      "text/plain": [
       "(13019, 3)"
      ]
     },
     "execution_count": 248,
     "metadata": {},
     "output_type": "execute_result"
    }
   ],
   "source": [
    "df_submit.shape"
   ]
  },
  {
   "cell_type": "code",
   "execution_count": 249,
   "metadata": {},
   "outputs": [],
   "source": [
    "df_submit = df_submit.groupby('key').mean()"
   ]
  },
  {
   "cell_type": "code",
   "execution_count": 251,
   "metadata": {},
   "outputs": [],
   "source": [
    "# df_submit.to_csv(\"no_one_6.csv\")"
   ]
  },
  {
   "cell_type": "code",
   "execution_count": null,
   "metadata": {},
   "outputs": [],
   "source": []
  }
 ],
 "metadata": {
  "kernelspec": {
   "display_name": "Python 3",
   "language": "python",
   "name": "python3"
  },
  "language_info": {
   "codemirror_mode": {
    "name": "ipython",
    "version": 3
   },
   "file_extension": ".py",
   "mimetype": "text/x-python",
   "name": "python",
   "nbconvert_exporter": "python",
   "pygments_lexer": "ipython3",
   "version": "3.7.4"
  }
 },
 "nbformat": 4,
 "nbformat_minor": 2
}
