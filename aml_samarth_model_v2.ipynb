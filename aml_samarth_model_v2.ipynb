{
 "cells": [
  {
   "cell_type": "code",
   "execution_count": 1,
   "metadata": {},
   "outputs": [],
   "source": [
    "%matplotlib inline\n",
    "import numpy as np \n",
    "import pandas as pd\n",
    "from datetime import timedelta\n",
    "import datetime as dt\n",
    "import matplotlib.pyplot as plt\n",
    "import xgboost as xgb\n",
    "from sklearn.cluster import MiniBatchKMeans\n",
    "import warnings\n",
    "from sklearn.ensemble import GradientBoostingRegressor\n",
    "import seaborn as sns"
   ]
  },
  {
   "cell_type": "code",
   "execution_count": 17,
   "metadata": {},
   "outputs": [],
   "source": [
    "train = pd.read_csv(\"train.csv\")"
   ]
  },
  {
   "cell_type": "code",
   "execution_count": 18,
   "metadata": {},
   "outputs": [],
   "source": [
    "test = pd.read_csv(\"data_for_test.csv\")"
   ]
  },
  {
   "cell_type": "code",
   "execution_count": 4,
   "metadata": {},
   "outputs": [],
   "source": [
    "submit = pd.read_csv(\"sample_submission.csv\")"
   ]
  },
  {
   "cell_type": "code",
   "execution_count": 119,
   "metadata": {},
   "outputs": [],
   "source": [
    "# def preprocessing(df_train, df_test):\n",
    "#     \"\"\"\n",
    "#     normalizing continuous\n",
    "#     adding features\n",
    "#     normalizing continuous variables\n",
    "#     \"\"\"\n",
    "#     df_train[['pid','reading_count']] = df_train['key'].str.split('-', expand=True)\n",
    "#     df_train = df_train.drop('pid', axis=1)\n",
    "#     df_train['reading_count'] = df_train['reading_count'].astype(int)\n",
    "    \n",
    "#     df_test[['pid','reading_count']] = df_test['key'].str.split('-', expand=True)\n",
    "#     df_test = df_test.drop('pid', axis=1)\n",
    "#     df_test['reading_count'] = df_test['reading_count'].astype(int)\n",
    "       \n",
    "#     #normalize\n",
    "#     cols = ['xx1','xx2','xx3','xx4','xx5'] \n",
    "#     for col in cols:\n",
    "#         df_test[col] = (df_test[col] - df_train[col].mean())/df_train[col].std()\n",
    "#         df_train[col] = (df_train[col] - df_train[col].mean())/df_train[col].std()\n",
    "#     return df_train, df_test"
   ]
  },
  {
   "cell_type": "code",
   "execution_count": 21,
   "metadata": {},
   "outputs": [],
   "source": [
    "train = train.groupby('key').mean().reset_index()"
   ]
  },
  {
   "cell_type": "code",
   "execution_count": 24,
   "metadata": {},
   "outputs": [],
   "source": [
    "test = test.groupby('key').mean().reset_index()"
   ]
  },
  {
   "cell_type": "code",
   "execution_count": 22,
   "metadata": {},
   "outputs": [
    {
     "data": {
      "text/html": [
       "<div>\n",
       "<style scoped>\n",
       "    .dataframe tbody tr th:only-of-type {\n",
       "        vertical-align: middle;\n",
       "    }\n",
       "\n",
       "    .dataframe tbody tr th {\n",
       "        vertical-align: top;\n",
       "    }\n",
       "\n",
       "    .dataframe thead th {\n",
       "        text-align: right;\n",
       "    }\n",
       "</style>\n",
       "<table border=\"1\" class=\"dataframe\">\n",
       "  <thead>\n",
       "    <tr style=\"text-align: right;\">\n",
       "      <th></th>\n",
       "      <th>key</th>\n",
       "      <th>patient_id</th>\n",
       "      <th>gender</th>\n",
       "      <th>age</th>\n",
       "      <th>x1</th>\n",
       "      <th>x2</th>\n",
       "      <th>x3</th>\n",
       "      <th>x4</th>\n",
       "      <th>x5</th>\n",
       "      <th>x6</th>\n",
       "      <th>xx1</th>\n",
       "      <th>xx2</th>\n",
       "      <th>xx3</th>\n",
       "      <th>xx4</th>\n",
       "      <th>xx5</th>\n",
       "      <th>y_mean_MAP</th>\n",
       "      <th>y_mean_HR</th>\n",
       "    </tr>\n",
       "  </thead>\n",
       "  <tbody>\n",
       "    <tr>\n",
       "      <td>0</td>\n",
       "      <td>0-28</td>\n",
       "      <td>0</td>\n",
       "      <td>0</td>\n",
       "      <td>72</td>\n",
       "      <td>39</td>\n",
       "      <td>5</td>\n",
       "      <td>1</td>\n",
       "      <td>0</td>\n",
       "      <td>0</td>\n",
       "      <td>0</td>\n",
       "      <td>80.166667</td>\n",
       "      <td>99.733333</td>\n",
       "      <td>113.433333</td>\n",
       "      <td>69.566667</td>\n",
       "      <td>87.000000</td>\n",
       "      <td>86.426667</td>\n",
       "      <td>79.130000</td>\n",
       "    </tr>\n",
       "    <tr>\n",
       "      <td>1</td>\n",
       "      <td>1-10</td>\n",
       "      <td>1</td>\n",
       "      <td>1</td>\n",
       "      <td>64</td>\n",
       "      <td>55</td>\n",
       "      <td>9</td>\n",
       "      <td>5</td>\n",
       "      <td>1</td>\n",
       "      <td>0</td>\n",
       "      <td>1</td>\n",
       "      <td>72.100000</td>\n",
       "      <td>99.800000</td>\n",
       "      <td>113.900000</td>\n",
       "      <td>59.600000</td>\n",
       "      <td>76.466667</td>\n",
       "      <td>73.033333</td>\n",
       "      <td>72.920000</td>\n",
       "    </tr>\n",
       "    <tr>\n",
       "      <td>2</td>\n",
       "      <td>1-11</td>\n",
       "      <td>1</td>\n",
       "      <td>1</td>\n",
       "      <td>64</td>\n",
       "      <td>55</td>\n",
       "      <td>9</td>\n",
       "      <td>5</td>\n",
       "      <td>1</td>\n",
       "      <td>0</td>\n",
       "      <td>1</td>\n",
       "      <td>71.500000</td>\n",
       "      <td>99.966667</td>\n",
       "      <td>114.066667</td>\n",
       "      <td>59.500000</td>\n",
       "      <td>75.400000</td>\n",
       "      <td>77.560000</td>\n",
       "      <td>72.493333</td>\n",
       "    </tr>\n",
       "    <tr>\n",
       "      <td>3</td>\n",
       "      <td>1-14</td>\n",
       "      <td>1</td>\n",
       "      <td>1</td>\n",
       "      <td>64</td>\n",
       "      <td>55</td>\n",
       "      <td>9</td>\n",
       "      <td>5</td>\n",
       "      <td>1</td>\n",
       "      <td>0</td>\n",
       "      <td>1</td>\n",
       "      <td>99.133333</td>\n",
       "      <td>100.000000</td>\n",
       "      <td>133.433333</td>\n",
       "      <td>69.833333</td>\n",
       "      <td>84.966667</td>\n",
       "      <td>82.523333</td>\n",
       "      <td>118.613333</td>\n",
       "    </tr>\n",
       "    <tr>\n",
       "      <td>4</td>\n",
       "      <td>1-15</td>\n",
       "      <td>1</td>\n",
       "      <td>1</td>\n",
       "      <td>64</td>\n",
       "      <td>55</td>\n",
       "      <td>9</td>\n",
       "      <td>5</td>\n",
       "      <td>1</td>\n",
       "      <td>0</td>\n",
       "      <td>1</td>\n",
       "      <td>150.200000</td>\n",
       "      <td>100.000000</td>\n",
       "      <td>123.733333</td>\n",
       "      <td>77.100000</td>\n",
       "      <td>89.233333</td>\n",
       "      <td>98.706667</td>\n",
       "      <td>189.720000</td>\n",
       "    </tr>\n",
       "  </tbody>\n",
       "</table>\n",
       "</div>"
      ],
      "text/plain": [
       "    key  patient_id  gender  age  x1  x2  x3  x4  x5  x6         xx1  \\\n",
       "0  0-28           0       0   72  39   5   1   0   0   0   80.166667   \n",
       "1  1-10           1       1   64  55   9   5   1   0   1   72.100000   \n",
       "2  1-11           1       1   64  55   9   5   1   0   1   71.500000   \n",
       "3  1-14           1       1   64  55   9   5   1   0   1   99.133333   \n",
       "4  1-15           1       1   64  55   9   5   1   0   1  150.200000   \n",
       "\n",
       "          xx2         xx3        xx4        xx5  y_mean_MAP   y_mean_HR  \n",
       "0   99.733333  113.433333  69.566667  87.000000   86.426667   79.130000  \n",
       "1   99.800000  113.900000  59.600000  76.466667   73.033333   72.920000  \n",
       "2   99.966667  114.066667  59.500000  75.400000   77.560000   72.493333  \n",
       "3  100.000000  133.433333  69.833333  84.966667   82.523333  118.613333  \n",
       "4  100.000000  123.733333  77.100000  89.233333   98.706667  189.720000  "
      ]
     },
     "execution_count": 22,
     "metadata": {},
     "output_type": "execute_result"
    }
   ],
   "source": [
    "train.head()"
   ]
  },
  {
   "cell_type": "code",
   "execution_count": 27,
   "metadata": {},
   "outputs": [
    {
     "data": {
      "text/html": [
       "<div>\n",
       "<style scoped>\n",
       "    .dataframe tbody tr th:only-of-type {\n",
       "        vertical-align: middle;\n",
       "    }\n",
       "\n",
       "    .dataframe tbody tr th {\n",
       "        vertical-align: top;\n",
       "    }\n",
       "\n",
       "    .dataframe thead th {\n",
       "        text-align: right;\n",
       "    }\n",
       "</style>\n",
       "<table border=\"1\" class=\"dataframe\">\n",
       "  <thead>\n",
       "    <tr style=\"text-align: right;\">\n",
       "      <th></th>\n",
       "      <th>key</th>\n",
       "      <th>patient_id</th>\n",
       "      <th>gender</th>\n",
       "      <th>age</th>\n",
       "      <th>x1</th>\n",
       "      <th>x2</th>\n",
       "      <th>x3</th>\n",
       "      <th>x4</th>\n",
       "      <th>x5</th>\n",
       "      <th>x6</th>\n",
       "      <th>xx1</th>\n",
       "      <th>xx2</th>\n",
       "      <th>xx3</th>\n",
       "      <th>xx4</th>\n",
       "      <th>xx5</th>\n",
       "    </tr>\n",
       "  </thead>\n",
       "  <tbody>\n",
       "    <tr>\n",
       "      <td>0</td>\n",
       "      <td>1005-1</td>\n",
       "      <td>1005</td>\n",
       "      <td>0</td>\n",
       "      <td>80</td>\n",
       "      <td>41</td>\n",
       "      <td>4</td>\n",
       "      <td>2</td>\n",
       "      <td>1</td>\n",
       "      <td>0</td>\n",
       "      <td>0</td>\n",
       "      <td>57.866667</td>\n",
       "      <td>98.433333</td>\n",
       "      <td>126.566667</td>\n",
       "      <td>42.800000</td>\n",
       "      <td>71.466667</td>\n",
       "    </tr>\n",
       "    <tr>\n",
       "      <td>1</td>\n",
       "      <td>1005-10</td>\n",
       "      <td>1005</td>\n",
       "      <td>0</td>\n",
       "      <td>80</td>\n",
       "      <td>41</td>\n",
       "      <td>4</td>\n",
       "      <td>2</td>\n",
       "      <td>0</td>\n",
       "      <td>0</td>\n",
       "      <td>0</td>\n",
       "      <td>75.766667</td>\n",
       "      <td>97.333333</td>\n",
       "      <td>126.933333</td>\n",
       "      <td>48.400000</td>\n",
       "      <td>71.866667</td>\n",
       "    </tr>\n",
       "    <tr>\n",
       "      <td>2</td>\n",
       "      <td>1005-11</td>\n",
       "      <td>1005</td>\n",
       "      <td>0</td>\n",
       "      <td>80</td>\n",
       "      <td>41</td>\n",
       "      <td>4</td>\n",
       "      <td>2</td>\n",
       "      <td>1</td>\n",
       "      <td>0</td>\n",
       "      <td>0</td>\n",
       "      <td>65.666667</td>\n",
       "      <td>92.166667</td>\n",
       "      <td>109.000000</td>\n",
       "      <td>48.633333</td>\n",
       "      <td>65.600000</td>\n",
       "    </tr>\n",
       "    <tr>\n",
       "      <td>3</td>\n",
       "      <td>1005-12</td>\n",
       "      <td>1005</td>\n",
       "      <td>0</td>\n",
       "      <td>80</td>\n",
       "      <td>41</td>\n",
       "      <td>4</td>\n",
       "      <td>2</td>\n",
       "      <td>1</td>\n",
       "      <td>0</td>\n",
       "      <td>0</td>\n",
       "      <td>64.600000</td>\n",
       "      <td>94.933333</td>\n",
       "      <td>124.200000</td>\n",
       "      <td>55.400000</td>\n",
       "      <td>75.133333</td>\n",
       "    </tr>\n",
       "    <tr>\n",
       "      <td>4</td>\n",
       "      <td>1005-13</td>\n",
       "      <td>1005</td>\n",
       "      <td>0</td>\n",
       "      <td>80</td>\n",
       "      <td>41</td>\n",
       "      <td>4</td>\n",
       "      <td>2</td>\n",
       "      <td>0</td>\n",
       "      <td>0</td>\n",
       "      <td>0</td>\n",
       "      <td>73.800000</td>\n",
       "      <td>97.400000</td>\n",
       "      <td>134.733333</td>\n",
       "      <td>52.366667</td>\n",
       "      <td>77.200000</td>\n",
       "    </tr>\n",
       "  </tbody>\n",
       "</table>\n",
       "</div>"
      ],
      "text/plain": [
       "       key  patient_id  gender  age  x1  x2  x3  x4  x5  x6        xx1  \\\n",
       "0   1005-1        1005       0   80  41   4   2   1   0   0  57.866667   \n",
       "1  1005-10        1005       0   80  41   4   2   0   0   0  75.766667   \n",
       "2  1005-11        1005       0   80  41   4   2   1   0   0  65.666667   \n",
       "3  1005-12        1005       0   80  41   4   2   1   0   0  64.600000   \n",
       "4  1005-13        1005       0   80  41   4   2   0   0   0  73.800000   \n",
       "\n",
       "         xx2         xx3        xx4        xx5  \n",
       "0  98.433333  126.566667  42.800000  71.466667  \n",
       "1  97.333333  126.933333  48.400000  71.866667  \n",
       "2  92.166667  109.000000  48.633333  65.600000  \n",
       "3  94.933333  124.200000  55.400000  75.133333  \n",
       "4  97.400000  134.733333  52.366667  77.200000  "
      ]
     },
     "execution_count": 27,
     "metadata": {},
     "output_type": "execute_result"
    }
   ],
   "source": [
    "test.head()"
   ]
  },
  {
   "cell_type": "code",
   "execution_count": 28,
   "metadata": {},
   "outputs": [],
   "source": [
    "train_MAP = train.drop(['y_mean_HR','key'], axis = 1)\n",
    "train_HR = train.drop(['y_mean_MAP','key'], axis = 1)"
   ]
  },
  {
   "cell_type": "code",
   "execution_count": 29,
   "metadata": {},
   "outputs": [],
   "source": [
    "valid_idx = range(int(train.shape[0]*80/100), train.shape[0])\n",
    "train_idx = range(int(train.shape[0]*80/100))"
   ]
  },
  {
   "cell_type": "code",
   "execution_count": 30,
   "metadata": {},
   "outputs": [],
   "source": [
    "valid_MAP = train_MAP.loc[valid_idx,:]\n",
    "train_MAP = train_MAP.loc[train_idx,:]\n",
    "valid_HR = train_HR.loc[valid_idx,:]\n",
    "train_HR = train_HR.loc[train_idx,:]"
   ]
  },
  {
   "cell_type": "markdown",
   "metadata": {},
   "source": [
    "## xgb on MAP"
   ]
  },
  {
   "cell_type": "code",
   "execution_count": 31,
   "metadata": {},
   "outputs": [
    {
     "data": {
      "text/plain": [
       "0.802949541361218"
      ]
     },
     "execution_count": 31,
     "metadata": {},
     "output_type": "execute_result"
    }
   ],
   "source": [
    "model = GradientBoostingRegressor(learning_rate=0.1, max_depth=4, n_estimators=200, min_samples_leaf=5)\n",
    "model.fit(train_MAP.drop('y_mean_MAP', axis=1), train_MAP['y_mean_MAP'])\n",
    "model.score(valid_MAP.drop('y_mean_MAP', axis=1), valid_MAP['y_mean_MAP'])"
   ]
  },
  {
   "cell_type": "code",
   "execution_count": 57,
   "metadata": {},
   "outputs": [
    {
     "data": {
      "text/plain": [
       "0.8043587148257328"
      ]
     },
     "execution_count": 57,
     "metadata": {},
     "output_type": "execute_result"
    }
   ],
   "source": [
    "model1 = GradientBoostingRegressor(learning_rate=0.1, max_depth=1, n_estimators=500, min_samples_leaf=5, loss='ls')\n",
    "model1.fit(train_MAP.drop('y_mean_MAP', axis=1), train_MAP['y_mean_MAP'])\n",
    "model1.score(valid_MAP.drop('y_mean_MAP', axis=1), valid_MAP['y_mean_MAP'])"
   ]
  },
  {
   "cell_type": "code",
   "execution_count": 58,
   "metadata": {},
   "outputs": [
    {
     "data": {
      "text/plain": [
       "0.7982998985173393"
      ]
     },
     "execution_count": 58,
     "metadata": {},
     "output_type": "execute_result"
    }
   ],
   "source": [
    "model2 = GradientBoostingRegressor(learning_rate=0.1, max_depth=3, n_estimators=750)\n",
    "model2.fit(train_MAP.drop('y_mean_MAP', axis=1), train_MAP['y_mean_MAP'])\n",
    "model2.score(valid_MAP.drop('y_mean_MAP', axis=1), valid_MAP['y_mean_MAP'])"
   ]
  },
  {
   "cell_type": "markdown",
   "metadata": {},
   "source": [
    "## rf on MAP"
   ]
  },
  {
   "cell_type": "code",
   "execution_count": 41,
   "metadata": {},
   "outputs": [],
   "source": [
    "from sklearn.ensemble import RandomForestRegressor"
   ]
  },
  {
   "cell_type": "code",
   "execution_count": 42,
   "metadata": {},
   "outputs": [
    {
     "name": "stderr",
     "output_type": "stream",
     "text": [
      "[Parallel(n_jobs=1)]: Using backend SequentialBackend with 1 concurrent workers.\n",
      "[Parallel(n_jobs=1)]: Done 100 out of 100 | elapsed:    3.6s finished\n",
      "[Parallel(n_jobs=1)]: Using backend SequentialBackend with 1 concurrent workers.\n",
      "[Parallel(n_jobs=1)]: Done 100 out of 100 | elapsed:    0.1s finished\n"
     ]
    },
    {
     "data": {
      "text/plain": [
       "0.7984063586950956"
      ]
     },
     "execution_count": 42,
     "metadata": {},
     "output_type": "execute_result"
    }
   ],
   "source": [
    "model_rf = RandomForestRegressor(n_estimators=100, min_samples_leaf=4,\n",
    "                                 max_features='sqrt', random_state=42, verbose=True)\n",
    "model_rf.fit(train_MAP.drop('y_mean_MAP', axis=1), train_MAP['y_mean_MAP'])\n",
    "model_rf.score(valid_MAP.drop('y_mean_MAP', axis=1), valid_MAP['y_mean_MAP'])"
   ]
  },
  {
   "cell_type": "code",
   "execution_count": 43,
   "metadata": {},
   "outputs": [
    {
     "name": "stderr",
     "output_type": "stream",
     "text": [
      "[Parallel(n_jobs=-1)]: Using backend ThreadingBackend with 16 concurrent workers.\n",
      "[Parallel(n_jobs=-1)]: Done  18 tasks      | elapsed:    0.2s\n",
      "[Parallel(n_jobs=-1)]: Done 168 tasks      | elapsed:    0.8s\n",
      "[Parallel(n_jobs=-1)]: Done 418 tasks      | elapsed:    1.9s\n",
      "[Parallel(n_jobs=-1)]: Done 500 out of 500 | elapsed:    2.2s finished\n",
      "[Parallel(n_jobs=16)]: Using backend ThreadingBackend with 16 concurrent workers.\n",
      "[Parallel(n_jobs=16)]: Done  18 tasks      | elapsed:    0.0s\n",
      "[Parallel(n_jobs=16)]: Done 168 tasks      | elapsed:    0.0s\n",
      "[Parallel(n_jobs=16)]: Done 418 tasks      | elapsed:    0.1s\n",
      "[Parallel(n_jobs=16)]: Done 500 out of 500 | elapsed:    0.1s finished\n"
     ]
    },
    {
     "data": {
      "text/plain": [
       "0.7995143414323127"
      ]
     },
     "execution_count": 43,
     "metadata": {},
     "output_type": "execute_result"
    }
   ],
   "source": [
    "model_rf_1 = RandomForestRegressor(n_estimators=500, min_samples_leaf=3,\n",
    "                                 max_features='sqrt', random_state=42, verbose=True, n_jobs=-1)\n",
    "model_rf_1.fit(train_MAP.drop('y_mean_MAP', axis=1), train_MAP['y_mean_MAP'])\n",
    "model_rf_1.score(valid_MAP.drop('y_mean_MAP', axis=1), valid_MAP['y_mean_MAP'])"
   ]
  },
  {
   "cell_type": "markdown",
   "metadata": {},
   "source": [
    "### BEST model for MAP is xgb model"
   ]
  },
  {
   "cell_type": "code",
   "execution_count": 44,
   "metadata": {},
   "outputs": [],
   "source": [
    "MAP_predictions = model.predict(test.drop('key', axis=1))"
   ]
  },
  {
   "cell_type": "markdown",
   "metadata": {},
   "source": [
    "## xgb on HR"
   ]
  },
  {
   "cell_type": "code",
   "execution_count": 45,
   "metadata": {},
   "outputs": [
    {
     "data": {
      "text/plain": [
       "0.9209887378341927"
      ]
     },
     "execution_count": 45,
     "metadata": {},
     "output_type": "execute_result"
    }
   ],
   "source": [
    "model_HR = GradientBoostingRegressor(learning_rate=0.1, max_depth=4, n_estimators=200, min_samples_leaf=5)\n",
    "model_HR.fit(train_HR.drop('y_mean_HR', axis=1), train_HR['y_mean_HR'])\n",
    "model_HR.score(valid_HR.drop('y_mean_HR', axis=1), valid_HR['y_mean_HR'])"
   ]
  },
  {
   "cell_type": "code",
   "execution_count": 59,
   "metadata": {},
   "outputs": [
    {
     "data": {
      "text/plain": [
       "0.9206379481633227"
      ]
     },
     "execution_count": 59,
     "metadata": {},
     "output_type": "execute_result"
    }
   ],
   "source": [
    "model1_HR = GradientBoostingRegressor(learning_rate=0.1, max_depth=1, n_estimators=500, min_samples_leaf=3)\n",
    "model1_HR.fit(train_HR.drop('y_mean_HR', axis=1), train_HR['y_mean_HR'])\n",
    "model1_HR.score(valid_HR.drop('y_mean_HR', axis=1), valid_HR['y_mean_HR'])"
   ]
  },
  {
   "cell_type": "code",
   "execution_count": 47,
   "metadata": {},
   "outputs": [
    {
     "data": {
      "text/plain": [
       "0.9206864481953145"
      ]
     },
     "execution_count": 47,
     "metadata": {},
     "output_type": "execute_result"
    }
   ],
   "source": [
    "model2_HR = GradientBoostingRegressor(learning_rate=0.1, max_depth=1, n_estimators=1000)\n",
    "model2_HR.fit(train_HR.drop('y_mean_HR', axis=1), train_HR['y_mean_HR'])\n",
    "model2_HR.score(valid_HR.drop('y_mean_HR', axis=1), valid_HR['y_mean_HR'])"
   ]
  },
  {
   "cell_type": "markdown",
   "metadata": {},
   "source": [
    "## rf on HR"
   ]
  },
  {
   "cell_type": "code",
   "execution_count": 63,
   "metadata": {},
   "outputs": [
    {
     "name": "stderr",
     "output_type": "stream",
     "text": [
      "[Parallel(n_jobs=-1)]: Using backend ThreadingBackend with 16 concurrent workers.\n",
      "[Parallel(n_jobs=-1)]: Done  18 tasks      | elapsed:    0.1s\n",
      "[Parallel(n_jobs=-1)]: Done 168 tasks      | elapsed:    0.7s\n",
      "[Parallel(n_jobs=-1)]: Done 418 tasks      | elapsed:    1.8s\n",
      "[Parallel(n_jobs=-1)]: Done 500 out of 500 | elapsed:    2.1s finished\n",
      "[Parallel(n_jobs=16)]: Using backend ThreadingBackend with 16 concurrent workers.\n",
      "[Parallel(n_jobs=16)]: Done  18 tasks      | elapsed:    0.0s\n",
      "[Parallel(n_jobs=16)]: Done 168 tasks      | elapsed:    0.0s\n",
      "[Parallel(n_jobs=16)]: Done 418 tasks      | elapsed:    0.1s\n",
      "[Parallel(n_jobs=16)]: Done 500 out of 500 | elapsed:    0.1s finished\n"
     ]
    },
    {
     "data": {
      "text/plain": [
       "0.8963462010521809"
      ]
     },
     "execution_count": 63,
     "metadata": {},
     "output_type": "execute_result"
    }
   ],
   "source": [
    "model_HR_rf = RandomForestRegressor(n_estimators=1000, min_samples_leaf=10,\n",
    "                                    max_features='auto', random_state=42, verbose=True, n_jobs=-1)\n",
    "model_rf_1.fit(train_HR.drop('y_mean_HR', axis=1), train_HR['y_mean_HR'])\n",
    "model_rf_1.score(valid_HR.drop('y_mean_HR', axis=1), valid_HR['y_mean_HR'])"
   ]
  },
  {
   "cell_type": "markdown",
   "metadata": {},
   "source": [
    "### Best model for HR is xbg model"
   ]
  },
  {
   "cell_type": "code",
   "execution_count": 50,
   "metadata": {},
   "outputs": [],
   "source": [
    "HR_predictions = model_HR.predict(test.drop('key', axis=1))"
   ]
  },
  {
   "cell_type": "code",
   "execution_count": 51,
   "metadata": {},
   "outputs": [],
   "source": [
    "test['y_mean_MAP'] = MAP_predictions\n",
    "test['y_mean_HR'] = HR_predictions"
   ]
  },
  {
   "cell_type": "code",
   "execution_count": 52,
   "metadata": {},
   "outputs": [],
   "source": [
    "toSubmit = test[['key','y_mean_MAP','y_mean_HR']]"
   ]
  },
  {
   "cell_type": "code",
   "execution_count": 53,
   "metadata": {},
   "outputs": [],
   "source": [
    "toSubmit = toSubmit.groupby('key').mean()"
   ]
  },
  {
   "cell_type": "code",
   "execution_count": 54,
   "metadata": {},
   "outputs": [],
   "source": [
    "toSubmit.to_csv(\"no_one_2.csv\")"
   ]
  },
  {
   "cell_type": "code",
   "execution_count": null,
   "metadata": {},
   "outputs": [],
   "source": []
  }
 ],
 "metadata": {
  "kernelspec": {
   "display_name": "Python 3",
   "language": "python",
   "name": "python3"
  },
  "language_info": {
   "codemirror_mode": {
    "name": "ipython",
    "version": 3
   },
   "file_extension": ".py",
   "mimetype": "text/x-python",
   "name": "python",
   "nbconvert_exporter": "python",
   "pygments_lexer": "ipython3",
   "version": "3.7.4"
  }
 },
 "nbformat": 4,
 "nbformat_minor": 2
}
