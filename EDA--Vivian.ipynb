{
 "cells": [
  {
   "cell_type": "code",
   "execution_count": 1,
   "metadata": {},
   "outputs": [],
   "source": [
    "import pandas as pd"
   ]
  },
  {
   "cell_type": "code",
   "execution_count": 4,
   "metadata": {},
   "outputs": [],
   "source": [
    "df_train = pd.read_csv(\"./data/train.csv\")"
   ]
  },
  {
   "cell_type": "code",
   "execution_count": 5,
   "metadata": {},
   "outputs": [
    {
     "name": "stdout",
     "output_type": "stream",
     "text": [
      "<class 'pandas.core.frame.DataFrame'>\n",
      "RangeIndex: 1348470 entries, 0 to 1348469\n",
      "Data columns (total 17 columns):\n",
      "patient_id    1348470 non-null int64\n",
      "key           1348470 non-null object\n",
      "gender        1348470 non-null int64\n",
      "age           1348470 non-null int64\n",
      "x1            1348470 non-null int64\n",
      "x2            1348470 non-null int64\n",
      "x3            1348470 non-null int64\n",
      "x4            1348470 non-null int64\n",
      "x5            1348470 non-null int64\n",
      "x6            1348470 non-null int64\n",
      "xx1           1348470 non-null float64\n",
      "xx2           1348470 non-null float64\n",
      "xx3           1348470 non-null float64\n",
      "xx4           1348470 non-null float64\n",
      "xx5           1348470 non-null float64\n",
      "y_mean_MAP    1348470 non-null float64\n",
      "y_mean_HR     1348470 non-null float64\n",
      "dtypes: float64(7), int64(9), object(1)\n",
      "memory usage: 174.9+ MB\n"
     ]
    }
   ],
   "source": [
    "df_train.info()"
   ]
  },
  {
   "cell_type": "code",
   "execution_count": 6,
   "metadata": {},
   "outputs": [
    {
     "data": {
      "text/html": [
       "<div>\n",
       "<style scoped>\n",
       "    .dataframe tbody tr th:only-of-type {\n",
       "        vertical-align: middle;\n",
       "    }\n",
       "\n",
       "    .dataframe tbody tr th {\n",
       "        vertical-align: top;\n",
       "    }\n",
       "\n",
       "    .dataframe thead th {\n",
       "        text-align: right;\n",
       "    }\n",
       "</style>\n",
       "<table border=\"1\" class=\"dataframe\">\n",
       "  <thead>\n",
       "    <tr style=\"text-align: right;\">\n",
       "      <th></th>\n",
       "      <th>patient_id</th>\n",
       "      <th>key</th>\n",
       "      <th>gender</th>\n",
       "      <th>age</th>\n",
       "      <th>x1</th>\n",
       "      <th>x2</th>\n",
       "      <th>x3</th>\n",
       "      <th>x4</th>\n",
       "      <th>x5</th>\n",
       "      <th>x6</th>\n",
       "      <th>xx1</th>\n",
       "      <th>xx2</th>\n",
       "      <th>xx3</th>\n",
       "      <th>xx4</th>\n",
       "      <th>xx5</th>\n",
       "      <th>y_mean_MAP</th>\n",
       "      <th>y_mean_HR</th>\n",
       "    </tr>\n",
       "  </thead>\n",
       "  <tbody>\n",
       "    <tr>\n",
       "      <th>0</th>\n",
       "      <td>1891</td>\n",
       "      <td>1891-3</td>\n",
       "      <td>1</td>\n",
       "      <td>75</td>\n",
       "      <td>22</td>\n",
       "      <td>1</td>\n",
       "      <td>2</td>\n",
       "      <td>0</td>\n",
       "      <td>0</td>\n",
       "      <td>1</td>\n",
       "      <td>80.0</td>\n",
       "      <td>95.0</td>\n",
       "      <td>99.9</td>\n",
       "      <td>49.4</td>\n",
       "      <td>62.5</td>\n",
       "      <td>59.04</td>\n",
       "      <td>80.0</td>\n",
       "    </tr>\n",
       "    <tr>\n",
       "      <th>1</th>\n",
       "      <td>1891</td>\n",
       "      <td>1891-3</td>\n",
       "      <td>1</td>\n",
       "      <td>75</td>\n",
       "      <td>22</td>\n",
       "      <td>1</td>\n",
       "      <td>2</td>\n",
       "      <td>0</td>\n",
       "      <td>0</td>\n",
       "      <td>1</td>\n",
       "      <td>80.0</td>\n",
       "      <td>94.9</td>\n",
       "      <td>98.4</td>\n",
       "      <td>48.7</td>\n",
       "      <td>61.3</td>\n",
       "      <td>59.04</td>\n",
       "      <td>80.0</td>\n",
       "    </tr>\n",
       "    <tr>\n",
       "      <th>2</th>\n",
       "      <td>1891</td>\n",
       "      <td>1891-3</td>\n",
       "      <td>1</td>\n",
       "      <td>75</td>\n",
       "      <td>22</td>\n",
       "      <td>1</td>\n",
       "      <td>2</td>\n",
       "      <td>0</td>\n",
       "      <td>0</td>\n",
       "      <td>1</td>\n",
       "      <td>80.0</td>\n",
       "      <td>95.0</td>\n",
       "      <td>95.3</td>\n",
       "      <td>48.5</td>\n",
       "      <td>60.3</td>\n",
       "      <td>59.04</td>\n",
       "      <td>80.0</td>\n",
       "    </tr>\n",
       "    <tr>\n",
       "      <th>3</th>\n",
       "      <td>1891</td>\n",
       "      <td>1891-3</td>\n",
       "      <td>1</td>\n",
       "      <td>75</td>\n",
       "      <td>22</td>\n",
       "      <td>1</td>\n",
       "      <td>2</td>\n",
       "      <td>0</td>\n",
       "      <td>0</td>\n",
       "      <td>1</td>\n",
       "      <td>80.0</td>\n",
       "      <td>95.0</td>\n",
       "      <td>97.4</td>\n",
       "      <td>48.9</td>\n",
       "      <td>61.3</td>\n",
       "      <td>59.04</td>\n",
       "      <td>80.0</td>\n",
       "    </tr>\n",
       "    <tr>\n",
       "      <th>4</th>\n",
       "      <td>1891</td>\n",
       "      <td>1891-3</td>\n",
       "      <td>1</td>\n",
       "      <td>75</td>\n",
       "      <td>22</td>\n",
       "      <td>1</td>\n",
       "      <td>2</td>\n",
       "      <td>0</td>\n",
       "      <td>0</td>\n",
       "      <td>1</td>\n",
       "      <td>76.7</td>\n",
       "      <td>95.7</td>\n",
       "      <td>99.6</td>\n",
       "      <td>50.2</td>\n",
       "      <td>62.8</td>\n",
       "      <td>59.04</td>\n",
       "      <td>80.0</td>\n",
       "    </tr>\n",
       "  </tbody>\n",
       "</table>\n",
       "</div>"
      ],
      "text/plain": [
       "   patient_id     key  gender  age  x1  x2  x3  x4  x5  x6   xx1   xx2   xx3  \\\n",
       "0        1891  1891-3       1   75  22   1   2   0   0   1  80.0  95.0  99.9   \n",
       "1        1891  1891-3       1   75  22   1   2   0   0   1  80.0  94.9  98.4   \n",
       "2        1891  1891-3       1   75  22   1   2   0   0   1  80.0  95.0  95.3   \n",
       "3        1891  1891-3       1   75  22   1   2   0   0   1  80.0  95.0  97.4   \n",
       "4        1891  1891-3       1   75  22   1   2   0   0   1  76.7  95.7  99.6   \n",
       "\n",
       "    xx4   xx5  y_mean_MAP  y_mean_HR  \n",
       "0  49.4  62.5       59.04       80.0  \n",
       "1  48.7  61.3       59.04       80.0  \n",
       "2  48.5  60.3       59.04       80.0  \n",
       "3  48.9  61.3       59.04       80.0  \n",
       "4  50.2  62.8       59.04       80.0  "
      ]
     },
     "execution_count": 6,
     "metadata": {},
     "output_type": "execute_result"
    }
   ],
   "source": [
    "df_train.head()"
   ]
  },
  {
   "cell_type": "markdown",
   "metadata": {},
   "source": [
    "### Missing data percentage"
   ]
  },
  {
   "cell_type": "code",
   "execution_count": 12,
   "metadata": {},
   "outputs": [],
   "source": [
    "def percent_missing(df, column_name):\n",
    "    perc_na = sum(df[column_name].isna()) / len(df[column_name])\n",
    "    return perc_na"
   ]
  },
  {
   "cell_type": "code",
   "execution_count": 13,
   "metadata": {},
   "outputs": [
    {
     "name": "stdout",
     "output_type": "stream",
     "text": [
      "patient_id 0.0\n",
      "key 0.0\n",
      "gender 0.0\n",
      "age 0.0\n",
      "x1 0.0\n",
      "x2 0.0\n",
      "x3 0.0\n",
      "x4 0.0\n",
      "x5 0.0\n",
      "x6 0.0\n",
      "xx1 0.0\n",
      "xx2 0.0\n",
      "xx3 0.0\n",
      "xx4 0.0\n",
      "xx5 0.0\n",
      "y_mean_MAP 0.0\n",
      "y_mean_HR 0.0\n"
     ]
    }
   ],
   "source": [
    "for column_name in df_train.columns:\n",
    "    print(column_name, percent_missing(df_train, column_name))"
   ]
  },
  {
   "cell_type": "code",
   "execution_count": 14,
   "metadata": {},
   "outputs": [
    {
     "name": "stdout",
     "output_type": "stream",
     "text": [
      "patient_id\n",
      "2321\n",
      "key\n",
      "44949\n",
      "gender\n",
      "2\n",
      "age\n",
      "74\n",
      "x1\n",
      "79\n",
      "x2\n",
      "21\n",
      "x3\n",
      "5\n",
      "x4\n",
      "2\n",
      "x5\n",
      "2\n",
      "x6\n",
      "2\n",
      "xx1\n",
      "18636\n",
      "xx2\n",
      "5649\n",
      "xx3\n",
      "36414\n",
      "xx4\n",
      "18743\n",
      "xx5\n",
      "34802\n",
      "y_mean_MAP\n",
      "24555\n",
      "y_mean_HR\n",
      "24936\n"
     ]
    }
   ],
   "source": [
    "for i in df_train.columns:\n",
    "    print(str(i))\n",
    "    print(df_train[i].nunique())"
   ]
  },
  {
   "cell_type": "markdown",
   "metadata": {},
   "source": [
    "### Target Exploration"
   ]
  },
  {
   "cell_type": "code",
   "execution_count": 24,
   "metadata": {},
   "outputs": [
    {
     "data": {
      "image/png": "[encoded data removed]",
      "text/plain": [
       "<Figure size 432x288 with 1 Axes>"
      ]
     },
     "metadata": {
      "needs_background": "light"
     },
     "output_type": "display_data"
    }
   ],
   "source": [
    "import matplotlib.pyplot as plt\n",
    "import seaborn as sns\n",
    "\n",
    "# seaborn histogram\n",
    "sns.distplot(df_train['y_mean_MAP'], hist=True, kde=False, \n",
    "             bins=int(180/5), color = 'blue',\n",
    "             hist_kws={'edgecolor':'black'})\n",
    "# Add labels\n",
    "plt.title('Histogram of y_mean_MAP')\n",
    "# plt.xlabel('Delay (min)')\n",
    "# plt.ylabel('Flights')\n",
    "plt.show()"
   ]
  },
  {
   "cell_type": "code",
   "execution_count": 25,
   "metadata": {},
   "outputs": [
    {
     "data": {
      "image/png": "[encoded data removed]",
      "text/plain": [
       "<Figure size 432x288 with 1 Axes>"
      ]
     },
     "metadata": {
      "needs_background": "light"
     },
     "output_type": "display_data"
    }
   ],
   "source": [
    "# seaborn histogram\n",
    "sns.distplot(df_train['y_mean_HR'], hist=True, kde=False, \n",
    "             bins=int(180/5), color = 'blue',\n",
    "             hist_kws={'edgecolor':'black'})\n",
    "# Add labels\n",
    "plt.title('Histogram of y_mean_HR')\n",
    "# plt.xlabel('Delay (min)')\n",
    "# plt.ylabel('Flights')\n",
    "plt.show()"
   ]
  },
  {
   "cell_type": "markdown",
   "metadata": {},
   "source": [
    "### Feature Exploration\n"
   ]
  },
  {
   "cell_type": "code",
   "execution_count": 52,
   "metadata": {},
   "outputs": [],
   "source": [
    "df_features = df_train.select_dtypes(include = ['float64','int64'])"
   ]
  },
  {
   "cell_type": "code",
   "execution_count": 49,
   "metadata": {},
   "outputs": [
    {
     "data": {
      "text/plain": [
       "array([[<matplotlib.axes._subplots.AxesSubplot object at 0x1a553ef358>,\n",
       "        <matplotlib.axes._subplots.AxesSubplot object at 0x1a5f8ff908>,\n",
       "        <matplotlib.axes._subplots.AxesSubplot object at 0x1a5f92fe80>,\n",
       "        <matplotlib.axes._subplots.AxesSubplot object at 0x1a5f967470>],\n",
       "       [<matplotlib.axes._subplots.AxesSubplot object at 0x1a5f996a20>,\n",
       "        <matplotlib.axes._subplots.AxesSubplot object at 0x1a5f9c3f28>,\n",
       "        <matplotlib.axes._subplots.AxesSubplot object at 0x1a5f9fd518>,\n",
       "        <matplotlib.axes._subplots.AxesSubplot object at 0x1a5fa2cb00>],\n",
       "       [<matplotlib.axes._subplots.AxesSubplot object at 0x1a5fa2cb38>,\n",
       "        <matplotlib.axes._subplots.AxesSubplot object at 0x1a5fa97668>,\n",
       "        <matplotlib.axes._subplots.AxesSubplot object at 0x1a5fac9c18>,\n",
       "        <matplotlib.axes._subplots.AxesSubplot object at 0x1a5fb07208>],\n",
       "       [<matplotlib.axes._subplots.AxesSubplot object at 0x1a5fb367b8>,\n",
       "        <matplotlib.axes._subplots.AxesSubplot object at 0x1a5fb6ad68>,\n",
       "        <matplotlib.axes._subplots.AxesSubplot object at 0x1a5fba7358>,\n",
       "        <matplotlib.axes._subplots.AxesSubplot object at 0x1a5fbd8908>]],\n",
       "      dtype=object)"
      ]
     },
     "execution_count": 49,
     "metadata": {},
     "output_type": "execute_result"
    },
    {
     "data": {
      "image/png": "[encoded data removed]",
      "text/plain": [
       "<Figure size 1152x1440 with 16 Axes>"
      ]
     },
     "metadata": {
      "needs_background": "light"
     },
     "output_type": "display_data"
    }
   ],
   "source": [
    "df_features.hist(figsize=(16,20), bins = 50, xlabelsize = 7, ylabelsize = 7)"
   ]
  },
  {
   "cell_type": "markdown",
   "metadata": {},
   "source": [
    "### Correlations"
   ]
  },
  {
   "cell_type": "markdown",
   "metadata": {},
   "source": [
    "#### Taregt to Features Correlation"
   ]
  },
  {
   "cell_type": "code",
   "execution_count": 60,
   "metadata": {},
   "outputs": [
    {
     "name": "stdout",
     "output_type": "stream",
     "text": [
      "There are 1 strongly correlated with y_mean_HR:\n",
      "xx1    0.92346\n",
      "Name: y_mean_HR, dtype: float64\n"
     ]
    }
   ],
   "source": [
    "df_features_corr = df_features.corr()['y_mean_HR'][:-2]\n",
    "corr_list = df_features_corr[abs(df_features_corr)>0.5].sort_values(ascending = False)\n",
    "print(\"There are {} strongly correlated with y_mean_HR:\\n{}\".format(len(corr_list), corr_list))"
   ]
  },
  {
   "cell_type": "code",
   "execution_count": 61,
   "metadata": {},
   "outputs": [
    {
     "name": "stdout",
     "output_type": "stream",
     "text": [
      "There are 3 strongly correlated with y_mean_MAP:\n",
      "xx5    0.853112\n",
      "xx4    0.767351\n",
      "xx3    0.683348\n",
      "Name: y_mean_MAP, dtype: float64\n"
     ]
    }
   ],
   "source": [
    "df_features_corr = df_features.corr()['y_mean_MAP'][:-2]\n",
    "corr_list = df_features_corr[abs(df_features_corr)>0.5].sort_values(ascending = False)\n",
    "print(\"There are {} strongly correlated with y_mean_MAP:\\n{}\".format(len(corr_list), corr_list))"
   ]
  },
  {
   "cell_type": "markdown",
   "metadata": {},
   "source": [
    "#### Feature to Features Correlation"
   ]
  },
  {
   "cell_type": "code",
   "execution_count": 65,
   "metadata": {},
   "outputs": [],
   "source": [
    "corr = df_train.drop(['y_mean_MAP','y_mean_HR'], axis = 1).corr()"
   ]
  },
  {
   "cell_type": "code",
   "execution_count": 67,
   "metadata": {},
   "outputs": [
    {
     "data": {
      "text/plain": [
       "<matplotlib.axes._subplots.AxesSubplot at 0x1a6b30e438>"
      ]
     },
     "execution_count": 67,
     "metadata": {},
     "output_type": "execute_result"
    },
    {
     "data": {
      "image/png": "[encoded data removed]",
      "text/plain": [
       "<Figure size 432x288 with 2 Axes>"
      ]
     },
     "metadata": {
      "needs_background": "light"
     },
     "output_type": "display_data"
    }
   ],
   "source": [
    "sns.heatmap(corr[(corr >= 0.5) | (corr<= -0.4)], cmap = 'viridis', vmax = 1.0, vmin = -1.0, linewidths = 0.1, annot = True, annot_kws = {'size': 7}, square = True)"
   ]
  },
  {
   "cell_type": "code",
   "execution_count": null,
   "metadata": {},
   "outputs": [],
   "source": []
  }
 ],
 "metadata": {
  "kernelspec": {
   "display_name": "Python 3",
   "language": "python",
   "name": "python3"
  },
  "language_info": {
   "codemirror_mode": {
    "name": "ipython",
    "version": 3
   },
   "file_extension": ".py",
   "mimetype": "text/x-python",
   "name": "python",
   "nbconvert_exporter": "python",
   "pygments_lexer": "ipython3",
   "version": "3.7.3"
  }
 },
 "nbformat": 4,
 "nbformat_minor": 2
}
